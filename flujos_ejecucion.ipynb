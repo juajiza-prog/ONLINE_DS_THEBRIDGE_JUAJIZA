{
 "cells": [
  {
   "cell_type": "code",
   "execution_count": 4,
   "id": "a5406d1f-2b72-41d1-9405-e9befe2e11cb",
   "metadata": {},
   "outputs": [
    {
     "name": "stdout",
     "output_type": "stream",
     "text": [
      "Suspenso\n",
      "Finaliza ejecución\n"
     ]
    }
   ],
   "source": [
    "nota = -15\n",
    "\n",
    "if nota >= 5:\n",
    "    print(\"Aprobado\")\n",
    "else:\n",
    "    print(\"Suspenso\")\n",
    "print(\"Finaliza ejecución\")"
   ]
  },
  {
   "cell_type": "code",
   "execution_count": 5,
   "id": "0068a06c-2337-4db4-bf8d-db436b0d3cf2",
   "metadata": {},
   "outputs": [
    {
     "ename": "IndentationError",
     "evalue": "expected an indented block after 'if' statement on line 4 (1315161033.py, line 5)",
     "output_type": "error",
     "traceback": [
      "  \u001b[36mCell\u001b[39m\u001b[36m \u001b[39m\u001b[32mIn[5]\u001b[39m\u001b[32m, line 5\u001b[39m\n\u001b[31m    \u001b[39m\u001b[31mprint(\"Aprobado\")\u001b[39m\n    ^\n\u001b[31mIndentationError\u001b[39m\u001b[31m:\u001b[39m expected an indented block after 'if' statement on line 4\n"
     ]
    }
   ],
   "source": [
    "# si no tabulamos\n",
    "nota = -15\n",
    "\n",
    "if nota >= 5:\n",
    "print(\"Aprobado\")\n",
    "else:\n",
    "print(\"Suspenso\")\n",
    "print(\"Finaliza ejecución\")"
   ]
  },
  {
   "cell_type": "code",
   "execution_count": 1,
   "id": "79ba7d2f-5d03-43b1-b748-c7fe974488da",
   "metadata": {},
   "outputs": [
    {
     "name": "stdout",
     "output_type": "stream",
     "text": [
      "Iteración for 4\n",
      "El numero 4 es un entero\n",
      "Iteración for 6\n",
      "El numero 6 es un entero\n",
      "Iteración for 4.0\n",
      "el numero 4.0 no es entero\n",
      "Iteración for 3.0\n",
      "el numero 3.0 no es entero\n",
      "Finaliza ejecución\n"
     ]
    }
   ],
   "source": [
    "numeros = [4, 6, 4.0, 3.0]\n",
    "\n",
    "for num in numeros:\n",
    "    print(\"Iteración for\", num)\n",
    "    if type(num) == int:\n",
    "        print(\"El numero\", num, \"es un entero\")\n",
    "    elif type(num)== float:\n",
    "        print(\"el numero\",num, \"no es entero\")\n",
    "    \n",
    "print(\"Finaliza ejecución\")"
   ]
  },
  {
   "cell_type": "code",
   "execution_count": 11,
   "id": "f32bb9ce-af32-4b54-8598-fdafa48103e6",
   "metadata": {},
   "outputs": [
    {
     "name": "stdout",
     "output_type": "stream",
     "text": [
      "Es falso\n",
      "Finalizado\n"
     ]
    }
   ],
   "source": [
    "if 1 == 2:\n",
    "    print(\"Es verdadero\")\n",
    "else:\n",
    "    print(\"Es falso\")\n",
    "print(\"Finalizado\")"
   ]
  },
  {
   "cell_type": "code",
   "execution_count": 15,
   "id": "c0cd5604-0663-46a8-9a55-329fa856e890",
   "metadata": {},
   "outputs": [
    {
     "name": "stdout",
     "output_type": "stream",
     "text": [
      "A septiembre\n"
     ]
    }
   ],
   "source": [
    "mi_nota = 4\n",
    "if mi_nota == 3:\n",
    "    print(\"Tu nota es un 3\")\n",
    "elif mi_nota < 5:\n",
    "    print(\"A septiembre\")\n",
    "\n",
    "elif mi_nota > 10:\n",
    "    print(\"Error. Es hasta 10\")\n",
    "\n",
    "\n",
    "\n",
    "else:\n",
    "    print(\"Aprobado\")"
   ]
  },
  {
   "cell_type": "code",
   "execution_count": 17,
   "id": "97c12d37-b1de-41a7-88e4-71de422e6824",
   "metadata": {},
   "outputs": [
    {
     "name": "stdout",
     "output_type": "stream",
     "text": [
      "Otro animal\n"
     ]
    }
   ],
   "source": [
    "pico = False\n",
    "alas = False\n",
    "sonido = \"Ladrar\"\n",
    "patas = 5\n",
    "\n",
    "if pico or alas:\n",
    "    # True or False = True\n",
    "    print(\"Ave\")\n",
    "\n",
    "elif patas == 4 and sonido == \"Ladrar\":\n",
    "    # True and True = True\n",
    "    print(\"Perro\")\n",
    "\n",
    "else:\n",
    "    print(\"Otro animal\")"
   ]
  },
  {
   "cell_type": "code",
   "execution_count": 29,
   "id": "2dfdfb9d-1182-43d9-92f8-569c214b2b2a",
   "metadata": {},
   "outputs": [
    {
     "name": "stdin",
     "output_type": "stream",
     "text": [
      "Ingrese un día de la semana:  martes\n"
     ]
    },
    {
     "name": "stdout",
     "output_type": "stream",
     "text": [
      "La tarea para       martes es: Ir al gimnasio\n"
     ]
    }
   ],
   "source": [
    "day = input(\"Ingrese un día de la semana: \")\n",
    "\n",
    "# Usando match case\n",
    "match day.lower():\n",
    "    case (\"lunes\"):\n",
    "        task = \"Hacer la compra\"\n",
    "    case \"martes\":\n",
    "        task = \"Ir al gimnasio\"\n",
    "    case \"miércoles\":\n",
    "        task = \"Estudiar Python\"\n",
    "    case \"jueves\":\n",
    "        task = \"Llamar a mamá\"\n",
    "    case \"viernes\":\n",
    "        task = \"Ver una película\"\n",
    "    case \"sábado\":\n",
    "        task = \"Salir con amigos\"\n",
    "    case \"domingo\":\n",
    "        task = \"Relajarse en casa\"\n",
    "    case _:\n",
    "        task = \"Ese día no es válido\"\n",
    "\n",
    "print(f\"La tarea para       {day} es: {task}\")"
   ]
  },
  {
   "cell_type": "code",
   "execution_count": 24,
   "id": "303b0e93-0aca-4965-a157-404f6b015e4d",
   "metadata": {},
   "outputs": [
    {
     "name": "stdout",
     "output_type": "stream",
     "text": [
      "3\n",
      "6\n",
      "9\n",
      "10\n"
     ]
    }
   ],
   "source": [
    "notas = [3, 6, 9, 10]\n",
    "for nota in notas:\n",
    "    print(nota)"
   ]
  },
  {
   "cell_type": "code",
   "execution_count": 25,
   "id": "52c96a43-b469-4011-8d92-93d30402145c",
   "metadata": {},
   "outputs": [
    {
     "name": "stdout",
     "output_type": "stream",
     "text": [
      "3\n",
      "6\n",
      "9\n",
      "10\n"
     ]
    }
   ],
   "source": [
    "notas = [3, 6, 9, 10]\n",
    "\n",
    "print(notas[0])\n",
    "print(notas[1])\n",
    "print(notas[2])\n",
    "print(notas[3])"
   ]
  },
  {
   "cell_type": "code",
   "execution_count": 26,
   "id": "6102a8e2-d99e-499b-aa93-ae8c2e5f70b7",
   "metadata": {},
   "outputs": [
    {
     "name": "stdout",
     "output_type": "stream",
     "text": [
      "Suspenso\n",
      "Aprobado\n",
      "Aprobado\n",
      "Aprobado\n"
     ]
    }
   ],
   "source": [
    "if notas[0] >= 5:\n",
    "    print(\"Aprobado\")\n",
    "else:\n",
    "    print(\"Suspenso\")\n",
    "\n",
    "if notas[1] >= 5:\n",
    "    print(\"Aprobado\")\n",
    "else:\n",
    "    print(\"Suspenso\")\n",
    "\n",
    "if notas[2] >= 5:\n",
    "    print(\"Aprobado\")\n",
    "else:\n",
    "    print(\"Suspenso\")\n",
    "\n",
    "if notas[3] >= 5:\n",
    "    print(\"Aprobado\")\n",
    "else:\n",
    "    print(\"Suspenso\")"
   ]
  },
  {
   "cell_type": "code",
   "execution_count": 27,
   "id": "aee1e7d0-40fd-4b92-985d-e121ca6d6fdf",
   "metadata": {},
   "outputs": [
    {
     "name": "stdout",
     "output_type": "stream",
     "text": [
      "Recorriendo nota 3\n",
      "Suspenso\n",
      "Recorriendo nota 6\n",
      "Aprobado\n",
      "Recorriendo nota 9\n",
      "Aprobado\n",
      "Recorriendo nota 10\n",
      "Aprobado\n"
     ]
    }
   ],
   "source": [
    "for nota in notas: # nota = notas[0...]\n",
    "    print(\"Recorriendo nota\", nota)\n",
    "    if nota >= 5:\n",
    "        print(\"Aprobado\")\n",
    "    else:\n",
    "        print(\"Suspenso\")"
   ]
  },
  {
   "cell_type": "code",
   "execution_count": 28,
   "id": "e65e4305-9b49-4cbb-95bf-b42edb11489d",
   "metadata": {},
   "outputs": [
    {
     "name": "stdout",
     "output_type": "stream",
     "text": [
      "[4, 5, 7, 3, 4, 6, 5, 5, 4, 5, 5, 6]\n",
      "Suspenso con: 4\n",
      "Aprobado con: 5\n",
      "Aprobado con: 7\n",
      "Suspenso con: 3\n",
      "Suspenso con: 4\n",
      "Aprobado con: 6\n",
      "Aprobado con: 5\n",
      "Aprobado con: 5\n",
      "Suspenso con: 4\n",
      "Aprobado con: 5\n",
      "Aprobado con: 5\n",
      "Aprobado con: 6\n"
     ]
    }
   ],
   "source": [
    "notas_clase = [4,5,7,3,4,6,5,5,4,5,5,6]\n",
    "print(notas_clase)\n",
    "for nota in notas_clase:\n",
    "    if nota >= 5:\n",
    "        print(\"Aprobado con:\", nota)\n",
    "    else:\n",
    "        print(\"Suspenso con:\", nota)"
   ]
  },
  {
   "cell_type": "code",
   "execution_count": 29,
   "id": "dd8eb53c-0886-48da-8813-435951f1aadf",
   "metadata": {},
   "outputs": [
    {
     "name": "stdout",
     "output_type": "stream",
     "text": [
      "comienza iteración\n",
      "P\n",
      "comienza iteración\n",
      "y\n",
      "comienza iteración\n",
      "t\n",
      "comienza iteración\n",
      "h\n",
      "comienza iteración\n",
      "o\n",
      "comienza iteración\n",
      "n\n"
     ]
    }
   ],
   "source": [
    "for letra in \"Python\":\n",
    "    print(\"comienza iteración\")\n",
    "    print(letra)"
   ]
  },
  {
   "cell_type": "code",
   "execution_count": 30,
   "id": "99d2a607-2010-4cdf-ab37-fd3ed60dae5c",
   "metadata": {},
   "outputs": [
    {
     "name": "stdout",
     "output_type": "stream",
     "text": [
      "Lunes\n",
      "L\n",
      "u\n",
      "n\n",
      "e\n",
      "s\n",
      "----------------------------------------------------------------------------------------------------\n",
      "Martes\n",
      "M\n",
      "a\n",
      "r\n",
      "t\n",
      "e\n",
      "s\n",
      "----------------------------------------------------------------------------------------------------\n",
      "Miércoles\n",
      "M\n",
      "i\n",
      "é\n",
      "r\n",
      "c\n",
      "o\n",
      "l\n",
      "e\n",
      "s\n",
      "----------------------------------------------------------------------------------------------------\n",
      "Jueves\n",
      "J\n",
      "u\n",
      "e\n",
      "v\n",
      "e\n",
      "s\n",
      "----------------------------------------------------------------------------------------------------\n",
      "Viernes\n",
      "V\n",
      "i\n",
      "e\n",
      "r\n",
      "n\n",
      "e\n",
      "s\n",
      "----------------------------------------------------------------------------------------------------\n",
      "Sábado\n",
      "S\n",
      "á\n",
      "b\n",
      "a\n",
      "d\n",
      "o\n",
      "----------------------------------------------------------------------------------------------------\n",
      "Domingo\n",
      "D\n",
      "o\n",
      "m\n",
      "i\n",
      "n\n",
      "g\n",
      "o\n",
      "----------------------------------------------------------------------------------------------------\n"
     ]
    }
   ],
   "source": [
    "dias_semana = [\"Lunes\", \"Martes\", \"Miércoles\", \"Jueves\", \"Viernes\", \"Sábado\", \"Domingo\"]\n",
    "\n",
    "for dia in dias_semana:\n",
    "    print(dia)\n",
    "    for letra in dia:\n",
    "        print(letra)\n",
    "    print(\"-\"*100)"
   ]
  },
  {
   "cell_type": "code",
   "execution_count": 6,
   "id": "0e341913-e089-479d-a834-ec5ee8502482",
   "metadata": {},
   "outputs": [
    {
     "name": "stdout",
     "output_type": "stream",
     "text": [
      "iterando con la nota: 4\n",
      "Cargando siguiente nota\n",
      "iterando con la nota: 5\n",
      "Cargando siguiente nota\n",
      "iterando con la nota: 7\n",
      "Cargando siguiente nota\n",
      "iterando con la nota: 11\n",
      "Cargando siguiente nota\n",
      "[3, 6, 8, 10]\n"
     ]
    }
   ],
   "source": [
    "notas_clase = [4,5,7,11]\n",
    "notas_clase_actualizada = []\n",
    "entregas = [False,True,True,False]\n",
    "\n",
    "for nota in notas_clase:\n",
    "    print(\"iterando con la nota:\", nota)\n",
    "    if entregas[notas_clase.index(nota)]:\n",
    "        notas_clase_actualizada.append(nota + 1)\n",
    "    else:\n",
    "        notas_clase_actualizada.append(nota - 1)\n",
    "    print(\"Cargando siguiente nota\")\n",
    "\n",
    "print(notas_clase_actualizada)"
   ]
  },
  {
   "cell_type": "code",
   "execution_count": 8,
   "id": "a6cf86a9-9b1e-47ad-8bb9-3abdd67a4ddf",
   "metadata": {},
   "outputs": [
    {
     "data": {
      "text/plain": [
       "[1, 2, 3]"
      ]
     },
     "execution_count": 8,
     "metadata": {},
     "output_type": "execute_result"
    }
   ],
   "source": [
    "list(range(1, 4))"
   ]
  },
  {
   "cell_type": "code",
   "execution_count": 7,
   "id": "42818784-434f-49f4-b6f1-51b4504f4a5e",
   "metadata": {
    "scrolled": true
   },
   "outputs": [
    {
     "name": "stdout",
     "output_type": "stream",
     "text": [
      "Coordenada: 1, 1\n",
      "Coordenada: 1, 2\n",
      "Coordenada: 1, 3\n",
      "Coordenada: 2, 1\n",
      "Coordenada: 2, 2\n",
      "Casilla central\n",
      "Coordenada: 2, 3\n",
      "Coordenada: 3, 1\n",
      "Coordenada: 3, 2\n",
      "Coordenada: 3, 3\n"
     ]
    }
   ],
   "source": [
    "# Tablero 3 en raya\n",
    "for i in range(1, 4):\n",
    "\n",
    "    for j in range(1, 4):\n",
    "        print(f'Coordenada: {i}, {j}')\n",
    "        # time.sleep(2)\n",
    "        if i == 2 and j == 2:\n",
    "            print(\"Casilla central\")"
   ]
  },
  {
   "cell_type": "code",
   "execution_count": 9,
   "id": "cb27bfcb-7594-4bcb-a44a-06f80f95b510",
   "metadata": {},
   "outputs": [
    {
     "name": "stdout",
     "output_type": "stream",
     "text": [
      "[0, 1, 2, 3, 4, 5]\n",
      "[0, 1, 2, 3, 4, 5]\n",
      "[0, 2, 4]\n",
      "[2, 3, 4, 5]\n",
      "[10, 8, 6, 4, 2, 0]\n"
     ]
    }
   ],
   "source": [
    "print(list(range(6)))\n",
    "print(list(range(0, 6, 1)))\n",
    "print(list(range(0, 6, 2)))\n",
    "print(list(range(2, 6, 1)))\n",
    "print(list(range(10, -1, -2)))"
   ]
  },
  {
   "cell_type": "code",
   "execution_count": 10,
   "id": "b8fa50a7-f6c0-480a-aef2-2d0ed542f8e8",
   "metadata": {},
   "outputs": [
    {
     "data": {
      "text/plain": [
       "[0, 1, 2]"
      ]
     },
     "execution_count": 10,
     "metadata": {},
     "output_type": "execute_result"
    }
   ],
   "source": [
    "list(range(3))"
   ]
  },
  {
   "cell_type": "code",
   "execution_count": 11,
   "id": "2007ab70-7424-4835-816f-f6a98326f536",
   "metadata": {},
   "outputs": [
    {
     "data": {
      "text/plain": [
       "3"
      ]
     },
     "execution_count": 11,
     "metadata": {},
     "output_type": "execute_result"
    }
   ],
   "source": [
    "colores = ['rojo', 'verde', 'azul']\n",
    "len(colores)"
   ]
  },
  {
   "cell_type": "code",
   "execution_count": 12,
   "id": "4f87dbd0-bafb-40fe-b396-f79a041acdef",
   "metadata": {},
   "outputs": [
    {
     "name": "stdout",
     "output_type": "stream",
     "text": [
      "rojo\n",
      "verde\n",
      "azul\n"
     ]
    }
   ],
   "source": [
    "for color in colores:\n",
    "    print(color)"
   ]
  },
  {
   "cell_type": "code",
   "execution_count": 13,
   "id": "fe2c100b-5345-47c0-a815-ee581649565e",
   "metadata": {},
   "outputs": [
    {
     "data": {
      "text/plain": [
       "[0, 1, 2]"
      ]
     },
     "execution_count": 13,
     "metadata": {},
     "output_type": "execute_result"
    }
   ],
   "source": [
    "list(range(len(colores)))"
   ]
  },
  {
   "cell_type": "code",
   "execution_count": 16,
   "id": "dceedc39-9a1e-46bd-b4b2-095e4f7e116f",
   "metadata": {},
   "outputs": [
    {
     "name": "stdout",
     "output_type": "stream",
     "text": [
      "0 rojo\n",
      "1 verde\n",
      "2 azul\n"
     ]
    }
   ],
   "source": [
    "colores = ['rojo', 'verde', 'azul']\n",
    "\n",
    "for i in range(len(colores)):\n",
    "    print(i, colores[i])"
   ]
  },
  {
   "cell_type": "code",
   "execution_count": 17,
   "id": "d08864d2-24fb-4c95-917b-c7cf59eee092",
   "metadata": {},
   "outputs": [
    {
     "data": {
      "text/plain": [
       "[(0, 'Pedro'), (1, 'Mariano'), (2, 'Jose Luis')]"
      ]
     },
     "execution_count": 17,
     "metadata": {},
     "output_type": "execute_result"
    }
   ],
   "source": [
    "names = [\"Pedro\", \"Mariano\", \"Jose Luis\"]\n",
    "list(enumerate(names))"
   ]
  },
  {
   "cell_type": "code",
   "execution_count": 18,
   "id": "99591613-57ce-40d9-b692-f48740727f82",
   "metadata": {},
   "outputs": [
    {
     "name": "stdout",
     "output_type": "stream",
     "text": [
      "Nombre 0: Pedro\n",
      "0\n",
      "Pedro\n",
      "Nombre 1: Mariano\n",
      "1\n",
      "Mariano\n",
      "Nombre 2: Jose Luis\n",
      "2\n",
      "Jose Luis\n"
     ]
    }
   ],
   "source": [
    "for index, name in enumerate(names):\n",
    "    print(f\"Nombre {index}: {name}\")\n",
    "    print(index)\n",
    "    print(name)"
   ]
  },
  {
   "cell_type": "code",
   "execution_count": 19,
   "id": "c9c31d37-dcbf-418d-a3d2-b9500c04ebb3",
   "metadata": {},
   "outputs": [
    {
     "data": {
      "text/plain": [
       "[0, 1, 2, 3]"
      ]
     },
     "execution_count": 19,
     "metadata": {},
     "output_type": "execute_result"
    }
   ],
   "source": [
    "list(range(4))"
   ]
  },
  {
   "cell_type": "code",
   "execution_count": 20,
   "id": "66f81885-50b4-49be-b6db-9b605bdc7002",
   "metadata": {},
   "outputs": [
    {
     "ename": "IndexError",
     "evalue": "list index out of range",
     "output_type": "error",
     "traceback": [
      "\u001b[31m---------------------------------------------------------------------------\u001b[39m",
      "\u001b[31mIndexError\u001b[39m                                Traceback (most recent call last)",
      "\u001b[36mCell\u001b[39m\u001b[36m \u001b[39m\u001b[32mIn[20]\u001b[39m\u001b[32m, line 2\u001b[39m\n\u001b[32m      1\u001b[39m names = [\u001b[33m\"\u001b[39m\u001b[33mPedro\u001b[39m\u001b[33m\"\u001b[39m, \u001b[33m\"\u001b[39m\u001b[33mMariano\u001b[39m\u001b[33m\"\u001b[39m, \u001b[33m\"\u001b[39m\u001b[33mJose Luis\u001b[39m\u001b[33m\"\u001b[39m]\n\u001b[32m----> \u001b[39m\u001b[32m2\u001b[39m \u001b[43mnames\u001b[49m\u001b[43m[\u001b[49m\u001b[32;43m3\u001b[39;49m\u001b[43m]\u001b[49m\n",
      "\u001b[31mIndexError\u001b[39m: list index out of range"
     ]
    }
   ],
   "source": [
    "names = [\"Pedro\", \"Mariano\", \"Jose Luis\"]\n",
    "names[3]"
   ]
  },
  {
   "cell_type": "code",
   "execution_count": 23,
   "id": "d3292d16-48df-4b30-8037-1397c3da82c0",
   "metadata": {},
   "outputs": [
    {
     "name": "stdout",
     "output_type": "stream",
     "text": [
      "0\n",
      "1\n",
      "2\n",
      "3\n",
      "4\n",
      "5\n",
      "Fin programa\n"
     ]
    }
   ],
   "source": [
    "import time\n",
    "i = 0\n",
    "\n",
    "while i < 5:\n",
    "    print(i)\n",
    "\n",
    "    i = i + 1 # i += 1\n",
    "\n",
    "    time.sleep(2)\n",
    "\n",
    "print(i)\n",
    "print(\"Fin programa\")"
   ]
  },
  {
   "cell_type": "code",
   "execution_count": 30,
   "id": "305e172c-865d-4792-a738-fd16b232bd96",
   "metadata": {
    "scrolled": true
   },
   "outputs": [
    {
     "name": "stdout",
     "output_type": "stream",
     "text": [
      "grosor 2\n",
      "dobles 1\n",
      "grosor 4\n",
      "dobles 2\n",
      "grosor 8\n",
      "dobles 3\n",
      "grosor 16\n",
      "dobles 4\n",
      "grosor 32\n",
      "dobles 5\n",
      "grosor 64\n",
      "dobles 6\n",
      "grosor 128\n",
      "dobles 7\n",
      "grosor 256\n",
      "dobles 8\n",
      "grosor 512\n",
      "dobles 9\n",
      "grosor 1024\n",
      "dobles 10\n",
      "grosor 2048\n",
      "dobles 11\n",
      "grosor 4096\n",
      "dobles 12\n",
      "grosor 8192\n",
      "dobles 13\n",
      "Terminado, el nº de veces que hemos doblado ha sido de 13 y el grosor total alcanzado es de 8192\n"
     ]
    }
   ],
   "source": [
    "grosor = 1\n",
    "dobles = 0\n",
    "\n",
    "while grosor < 5000:\n",
    "    grosor = grosor * 2\n",
    "    dobles = dobles + 1\n",
    "    print(f'grosor {grosor}')\n",
    "    print('dobles', dobles)\n",
    "    time.sleep(1)\n",
    "\n",
    "print(\"Terminado, el nº de veces que hemos doblado ha sido de\", dobles, \"y el grosor total alcanzado es de\", grosor)"
   ]
  },
  {
   "cell_type": "code",
   "execution_count": 25,
   "id": "42744a13-cea3-42bd-88ae-60392c4690e8",
   "metadata": {},
   "outputs": [
    {
     "name": "stdout",
     "output_type": "stream",
     "text": [
      "1\n",
      "2\n",
      "3\n"
     ]
    }
   ],
   "source": [
    "for i in [1,2,3,4]:\n",
    "    print(i)\n",
    "    if i > 2:\n",
    "        break\n"
   ]
  },
  {
   "cell_type": "code",
   "execution_count": 28,
   "id": "c072b73a-adb6-40df-ae1b-09a15df24768",
   "metadata": {},
   "outputs": [
    {
     "name": "stdout",
     "output_type": "stream",
     "text": [
      "s\n",
      "t\n",
      "r\n",
      "n\n",
      "g\n",
      "Fin\n"
     ]
    }
   ],
   "source": [
    "for val in \"string\":\n",
    "    if val == \"i\":\n",
    "        continue\n",
    "        # print(\"hola\")\n",
    "\n",
    "    print(val)\n",
    "\n",
    "\n",
    "print(\"Fin\")\n"
   ]
  },
  {
   "cell_type": "code",
   "execution_count": 31,
   "id": "0ffc8afe-4021-4cf8-ac5b-cc91c68162e2",
   "metadata": {},
   "outputs": [
    {
     "name": "stdout",
     "output_type": "stream",
     "text": [
      "El codigo tiene errores\n",
      "Se ejecuta igualmente\n",
      "AAA\n"
     ]
    }
   ],
   "source": [
    "try:\n",
    "    print(variable_)\n",
    "except :\n",
    "    print(\"El codigo tiene errores\")\n",
    "    print(\"Se ejecuta igualmente\")\n",
    "\n",
    "print(\"AAA\")\n"
   ]
  },
  {
   "cell_type": "code",
   "execution_count": 32,
   "id": "ff7d38e5-a6d6-4f81-8df1-bf1926d23d4c",
   "metadata": {},
   "outputs": [
    {
     "ename": "IndexError",
     "evalue": "list index out of range",
     "output_type": "error",
     "traceback": [
      "\u001b[31m---------------------------------------------------------------------------\u001b[39m",
      "\u001b[31mIndexError\u001b[39m                                Traceback (most recent call last)",
      "\u001b[36mCell\u001b[39m\u001b[36m \u001b[39m\u001b[32mIn[32]\u001b[39m\u001b[32m, line 2\u001b[39m\n\u001b[32m      1\u001b[39m lista = [\u001b[32m1\u001b[39m,\u001b[32m2\u001b[39m,\u001b[32m3\u001b[39m]\n\u001b[32m----> \u001b[39m\u001b[32m2\u001b[39m \u001b[38;5;28mprint\u001b[39m(\u001b[43mlista\u001b[49m\u001b[43m[\u001b[49m\u001b[32;43m5\u001b[39;49m\u001b[43m]\u001b[49m)\n\u001b[32m      3\u001b[39m \u001b[38;5;28mprint\u001b[39m(\u001b[33m\"\u001b[39m\u001b[33mHola mundo\u001b[39m\u001b[33m\"\u001b[39m)\n",
      "\u001b[31mIndexError\u001b[39m: list index out of range"
     ]
    }
   ],
   "source": [
    "lista = [1,2,3]\n",
    "print(lista[5])\n",
    "print(\"Hola mundo\")"
   ]
  },
  {
   "cell_type": "code",
   "execution_count": 33,
   "id": "976aec27-4dc8-4134-ad8f-935750f64b97",
   "metadata": {},
   "outputs": [
    {
     "name": "stdout",
     "output_type": "stream",
     "text": [
      "list index out of range\n",
      "AAA\n",
      "BBB\n"
     ]
    }
   ],
   "source": [
    "lista = [1,2,3]\n",
    "\n",
    "try:\n",
    "    print(lista[5])\n",
    "except Exception as e:\n",
    "    print(e)\n",
    "    print('AAA')\n",
    "print('BBB')"
   ]
  },
  {
   "cell_type": "code",
   "execution_count": null,
   "id": "b45b5d74-ff65-4f2c-b55c-18a3c17d6586",
   "metadata": {},
   "outputs": [],
   "source": []
  },
  {
   "cell_type": "code",
   "execution_count": null,
   "id": "3af4e5a9-7cbb-4348-9104-62764f082552",
   "metadata": {},
   "outputs": [],
   "source": []
  },
  {
   "cell_type": "code",
   "execution_count": null,
   "id": "9afbd8d7-1d09-4650-a9bb-17ac27fe1fec",
   "metadata": {},
   "outputs": [],
   "source": []
  },
  {
   "cell_type": "code",
   "execution_count": null,
   "id": "ba73a294-f402-4973-964b-f9e8e525e404",
   "metadata": {},
   "outputs": [],
   "source": []
  },
  {
   "cell_type": "code",
   "execution_count": null,
   "id": "83713915-cd92-4565-afab-d1269215e8f1",
   "metadata": {},
   "outputs": [],
   "source": []
  },
  {
   "cell_type": "code",
   "execution_count": null,
   "id": "bc2c6a16-6a34-4cbb-98e5-c4dfb29e5c14",
   "metadata": {},
   "outputs": [],
   "source": []
  },
  {
   "cell_type": "code",
   "execution_count": null,
   "id": "0353e2cc-ff74-44d4-9070-143b6904916d",
   "metadata": {},
   "outputs": [],
   "source": []
  },
  {
   "cell_type": "code",
   "execution_count": null,
   "id": "7e6fdf5f-5444-4748-95b3-a87a39681176",
   "metadata": {},
   "outputs": [],
   "source": []
  }
 ],
 "metadata": {
  "kernelspec": {
   "display_name": "Python 3 (ipykernel)",
   "language": "python",
   "name": "python3"
  },
  "language_info": {
   "codemirror_mode": {
    "name": "ipython",
    "version": 3
   },
   "file_extension": ".py",
   "mimetype": "text/x-python",
   "name": "python",
   "nbconvert_exporter": "python",
   "pygments_lexer": "ipython3",
   "version": "3.13.7"
  }
 },
 "nbformat": 4,
 "nbformat_minor": 5
}
