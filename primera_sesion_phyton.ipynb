{
 "cells": [
  {
   "cell_type": "markdown",
   "id": "57217dbf-ffea-4360-8160-85cc11106884",
   "metadata": {},
   "source": [
    "# Python Basics I: Variables"
   ]
  },
  {
   "cell_type": "code",
   "execution_count": 2,
   "id": "51e3ce3d-5aec-41d4-9cd9-9050deabf272",
   "metadata": {},
   "outputs": [],
   "source": [
    "ingresos = 1000\n",
    "gastos = 400"
   ]
  },
  {
   "cell_type": "code",
   "execution_count": 3,
   "id": "31b9117b-43cd-48a7-9c97-7dac9889c9ef",
   "metadata": {},
   "outputs": [
    {
     "data": {
      "text/plain": [
       "1000"
      ]
     },
     "execution_count": 3,
     "metadata": {},
     "output_type": "execute_result"
    }
   ],
   "source": [
    "ingresos"
   ]
  },
  {
   "cell_type": "code",
   "execution_count": 4,
   "id": "98f5338e-c43b-413a-a983-6181a8c166dc",
   "metadata": {},
   "outputs": [
    {
     "data": {
      "text/plain": [
       "400"
      ]
     },
     "execution_count": 4,
     "metadata": {},
     "output_type": "execute_result"
    }
   ],
   "source": [
    "gastos"
   ]
  },
  {
   "cell_type": "code",
   "execution_count": 5,
   "id": "35a05c5c-834c-475c-ba4b-6fc2eb1f8b6d",
   "metadata": {},
   "outputs": [],
   "source": [
    "margen = ingresos-gastos"
   ]
  },
  {
   "cell_type": "code",
   "execution_count": 6,
   "id": "467b2192-03a8-4895-a51d-13e75d7513d2",
   "metadata": {},
   "outputs": [
    {
     "data": {
      "text/plain": [
       "600"
      ]
     },
     "execution_count": 6,
     "metadata": {},
     "output_type": "execute_result"
    }
   ],
   "source": [
    "margen"
   ]
  },
  {
   "cell_type": "code",
   "execution_count": 7,
   "id": "0353a449-ec4a-44d4-a0ba-79cd11e59a7c",
   "metadata": {},
   "outputs": [
    {
     "name": "stdout",
     "output_type": "stream",
     "text": [
      "600\n"
     ]
    }
   ],
   "source": [
    "print(margen)"
   ]
  },
  {
   "cell_type": "code",
   "execution_count": 8,
   "id": "1010b99d-6349-49f6-8c4b-bd5e54155a08",
   "metadata": {},
   "outputs": [
    {
     "name": "stdout",
     "output_type": "stream",
     "text": [
      "los ingresos han sido altos\n",
      "los ingresos han sido altos\n"
     ]
    }
   ],
   "source": [
    "ingresos_text = \"los ingresos han sido altos\"\n",
    "ingresos_alt = 'los ingresos han sido altos'\n",
    "print(ingresos_text)\n",
    "print(ingresos_alt)"
   ]
  },
  {
   "cell_type": "code",
   "execution_count": 9,
   "id": "36f55a77-01e6-46e9-972b-11ad944063e8",
   "metadata": {},
   "outputs": [
    {
     "data": {
      "text/plain": [
       "\"los 'ingresos' han sido altos\""
      ]
     },
     "execution_count": 9,
     "metadata": {},
     "output_type": "execute_result"
    }
   ],
   "source": [
    "ingresos_text = \"los 'ingresos' han sido altos\"\n",
    "ingresos_text"
   ]
  },
  {
   "cell_type": "code",
   "execution_count": 11,
   "id": "8ea4e57b-70cb-4ad2-b91d-97f124ba2cd7",
   "metadata": {
    "scrolled": true
   },
   "outputs": [
    {
     "ename": "SyntaxError",
     "evalue": "invalid syntax (3486791361.py, line 1)",
     "output_type": "error",
     "traceback": [
      "  \u001b[36mCell\u001b[39m\u001b[36m \u001b[39m\u001b[32mIn[11]\u001b[39m\u001b[32m, line 1\u001b[39m\n\u001b[31m    \u001b[39m\u001b[31mingresos_text = \"los \"ingresos\" han sido altos\"\u001b[39m\n                          ^\n\u001b[31mSyntaxError\u001b[39m\u001b[31m:\u001b[39m invalid syntax\n"
     ]
    }
   ],
   "source": [
    "ingresos_text = \"los \"ingresos\" han sido altos\""
   ]
  },
  {
   "cell_type": "code",
   "execution_count": 12,
   "id": "9703b477-fbfc-43f2-9e4a-6a456d9eccde",
   "metadata": {},
   "outputs": [
    {
     "name": "stdout",
     "output_type": "stream",
     "text": [
      "1000\n"
     ]
    }
   ],
   "source": [
    "ingresos=1000\n",
    "ingresos = 1000\n",
    "print(ingresos)"
   ]
  },
  {
   "cell_type": "code",
   "execution_count": 13,
   "id": "d30826b9-6554-42d9-a52a-7eb299dc9167",
   "metadata": {},
   "outputs": [
    {
     "ename": "SyntaxError",
     "evalue": "invalid syntax (1186775780.py, line 1)",
     "output_type": "error",
     "traceback": [
      "  \u001b[36mCell\u001b[39m\u001b[36m \u001b[39m\u001b[32mIn[13]\u001b[39m\u001b[32m, line 1\u001b[39m\n\u001b[31m    \u001b[39m\u001b[31mingresos text=\"los ingresos han sido altos\"\u001b[39m\n             ^\n\u001b[31mSyntaxError\u001b[39m\u001b[31m:\u001b[39m invalid syntax\n"
     ]
    }
   ],
   "source": [
    "ingresos text=\"los ingresos han sido altos\""
   ]
  },
  {
   "cell_type": "code",
   "execution_count": 14,
   "id": "e42cba0b-0969-4e86-8297-466953a64633",
   "metadata": {},
   "outputs": [
    {
     "data": {
      "text/plain": [
       "400"
      ]
     },
     "execution_count": 14,
     "metadata": {},
     "output_type": "execute_result"
    }
   ],
   "source": [
    "gastos"
   ]
  },
  {
   "cell_type": "code",
   "execution_count": 16,
   "id": "6983fbc2-b4ea-4935-81b1-797be1526fe8",
   "metadata": {},
   "outputs": [
    {
     "name": "stdout",
     "output_type": "stream",
     "text": [
      "200\n"
     ]
    }
   ],
   "source": [
    "gastos = 200\n",
    "print (gastos)"
   ]
  },
  {
   "cell_type": "code",
   "execution_count": 18,
   "id": "c8c7b705-d819-4125-977d-727046e68e16",
   "metadata": {},
   "outputs": [
    {
     "data": {
      "text/plain": [
       "1000"
      ]
     },
     "execution_count": 18,
     "metadata": {},
     "output_type": "execute_result"
    }
   ],
   "source": [
    "ingresos"
   ]
  },
  {
   "cell_type": "code",
   "execution_count": 19,
   "id": "203f1a84-c071-4c16-834c-23f1435c1256",
   "metadata": {},
   "outputs": [
    {
     "data": {
      "text/plain": [
       "200"
      ]
     },
     "execution_count": 19,
     "metadata": {},
     "output_type": "execute_result"
    }
   ],
   "source": [
    "gastos"
   ]
  },
  {
   "cell_type": "code",
   "execution_count": 20,
   "id": "82c5eb16-db2d-43e2-97a4-ea255825a182",
   "metadata": {},
   "outputs": [
    {
     "data": {
      "text/plain": [
       "600"
      ]
     },
     "execution_count": 20,
     "metadata": {},
     "output_type": "execute_result"
    }
   ],
   "source": [
    "margen"
   ]
  },
  {
   "cell_type": "code",
   "execution_count": 21,
   "id": "acbccc33-d744-4750-8116-44d5a9c5a6b6",
   "metadata": {},
   "outputs": [],
   "source": [
    "margen= ingresos - gastos"
   ]
  },
  {
   "cell_type": "code",
   "execution_count": 22,
   "id": "42c4e21b-5ddf-4749-b002-79c4030b744d",
   "metadata": {
    "scrolled": true
   },
   "outputs": [
    {
     "data": {
      "text/plain": [
       "800"
      ]
     },
     "execution_count": 22,
     "metadata": {},
     "output_type": "execute_result"
    }
   ],
   "source": [
    "margen"
   ]
  },
  {
   "cell_type": "code",
   "execution_count": 23,
   "id": "749e5718-b734-4d6c-887b-92a4d8d56cf4",
   "metadata": {},
   "outputs": [
    {
     "ename": "NameError",
     "evalue": "name 'gstos' is not defined",
     "output_type": "error",
     "traceback": [
      "\u001b[31m---------------------------------------------------------------------------\u001b[39m",
      "\u001b[31mNameError\u001b[39m                                 Traceback (most recent call last)",
      "\u001b[36mCell\u001b[39m\u001b[36m \u001b[39m\u001b[32mIn[23]\u001b[39m\u001b[32m, line 1\u001b[39m\n\u001b[32m----> \u001b[39m\u001b[32m1\u001b[39m \u001b[43mgstos\u001b[49m\n",
      "\u001b[31mNameError\u001b[39m: name 'gstos' is not defined"
     ]
    }
   ],
   "source": [
    "gstos"
   ]
  },
  {
   "cell_type": "code",
   "execution_count": 25,
   "id": "06f0c60b-700d-4286-9f0a-e5a6088eb514",
   "metadata": {},
   "outputs": [
    {
     "ename": "SyntaxError",
     "evalue": "unterminated string literal (detected at line 1) (2211738507.py, line 1)",
     "output_type": "error",
     "traceback": [
      "  \u001b[36mCell\u001b[39m\u001b[36m \u001b[39m\u001b[32mIn[25]\u001b[39m\u001b[32m, line 1\u001b[39m\n\u001b[31m    \u001b[39m\u001b[31mtexto = \"error sin comillas\u001b[39m\n            ^\n\u001b[31mSyntaxError\u001b[39m\u001b[31m:\u001b[39m unterminated string literal (detected at line 1)\n"
     ]
    }
   ],
   "source": [
    "texto = \"error sin comillas"
   ]
  },
  {
   "cell_type": "code",
   "execution_count": 26,
   "id": "bcbfec6e-145f-4c7e-bf63-386b7a753447",
   "metadata": {},
   "outputs": [
    {
     "ename": "SyntaxError",
     "evalue": "invalid decimal literal (4210135933.py, line 1)",
     "output_type": "error",
     "traceback": [
      "  \u001b[36mCell\u001b[39m\u001b[36m \u001b[39m\u001b[32mIn[26]\u001b[39m\u001b[32m, line 1\u001b[39m\n\u001b[31m    \u001b[39m\u001b[31m29_ingresos\u001b[39m\n      ^\n\u001b[31mSyntaxError\u001b[39m\u001b[31m:\u001b[39m invalid decimal literal\n"
     ]
    }
   ],
   "source": [
    "29_ingresos"
   ]
  },
  {
   "cell_type": "raw",
   "id": "1387f89e-ace9-431c-8a2b-75c5b976fefa",
   "metadata": {},
   "source": [
    "ingresos_29=5000"
   ]
  },
  {
   "cell_type": "code",
   "execution_count": 28,
   "id": "910bf515-d3a7-47d5-aa59-1e302197acf2",
   "metadata": {},
   "outputs": [
    {
     "name": "stdout",
     "output_type": "stream",
     "text": [
      "5000\n"
     ]
    }
   ],
   "source": [
    "print(ingresos_29)"
   ]
  },
  {
   "cell_type": "code",
   "execution_count": 29,
   "id": "61df88c7-3ed7-4269-a4f6-0e6de45f59b6",
   "metadata": {},
   "outputs": [
    {
     "ename": "NameError",
     "evalue": "name 'Ingresos_29' is not defined",
     "output_type": "error",
     "traceback": [
      "\u001b[31m---------------------------------------------------------------------------\u001b[39m",
      "\u001b[31mNameError\u001b[39m                                 Traceback (most recent call last)",
      "\u001b[36mCell\u001b[39m\u001b[36m \u001b[39m\u001b[32mIn[29]\u001b[39m\u001b[32m, line 1\u001b[39m\n\u001b[32m----> \u001b[39m\u001b[32m1\u001b[39m \u001b[38;5;28mprint\u001b[39m(\u001b[43mIngresos_29\u001b[49m)\n",
      "\u001b[31mNameError\u001b[39m: name 'Ingresos_29' is not defined"
     ]
    }
   ],
   "source": [
    "print(Ingresos_29)"
   ]
  },
  {
   "cell_type": "code",
   "execution_count": 30,
   "id": "bfe36a0c-2289-4840-876f-cbf19857b599",
   "metadata": {},
   "outputs": [
    {
     "ename": "SyntaxError",
     "evalue": "invalid syntax (2570036723.py, line 1)",
     "output_type": "error",
     "traceback": [
      "  \u001b[36mCell\u001b[39m\u001b[36m \u001b[39m\u001b[32mIn[30]\u001b[39m\u001b[32m, line 1\u001b[39m\n\u001b[31m    \u001b[39m\u001b[31mdef=10\u001b[39m\n       ^\n\u001b[31mSyntaxError\u001b[39m\u001b[31m:\u001b[39m invalid syntax\n"
     ]
    }
   ],
   "source": [
    "def=10"
   ]
  },
  {
   "cell_type": "code",
   "execution_count": 31,
   "id": "62027099-8bc0-498f-a3c7-e1f375d55c22",
   "metadata": {},
   "outputs": [
    {
     "name": "stdout",
     "output_type": "stream",
     "text": [
      "['False', 'None', 'True', 'and', 'as', 'assert', 'async', 'await', 'break', 'class', 'continue', 'def', 'del', 'elif', 'else', 'except', 'finally', 'for', 'from', 'global', 'if', 'import', 'in', 'is', 'lambda', 'nonlocal', 'not', 'or', 'pass', 'raise', 'return', 'try', 'while', 'with', 'yield']\n"
     ]
    }
   ],
   "source": [
    "import keyword\n",
    "print(keyword.kwlist)"
   ]
  },
  {
   "cell_type": "code",
   "execution_count": 34,
   "id": "d91dec60-018c-4a79-8336-0b6041d87bc2",
   "metadata": {},
   "outputs": [
    {
     "name": "stdout",
     "output_type": "stream",
     "text": [
      "\n",
      "Here is a list of the Python keywords.  Enter any keyword to get more help.\n",
      "\n",
      "False               class               from                or\n",
      "None                continue            global              pass\n",
      "True                def                 if                  raise\n",
      "and                 del                 import              return\n",
      "as                  elif                in                  try\n",
      "assert              else                is                  while\n",
      "async               except              lambda              with\n",
      "await               finally             nonlocal            yield\n",
      "break               for                 not                 \n",
      "\n"
     ]
    }
   ],
   "source": [
    "help (\"keywords\")"
   ]
  },
  {
   "cell_type": "code",
   "execution_count": 35,
   "id": "c9bbaaa4-aa3e-4630-84cc-f753a8ea0426",
   "metadata": {},
   "outputs": [
    {
     "ename": "SyntaxError",
     "evalue": "invalid syntax (384079569.py, line 1)",
     "output_type": "error",
     "traceback": [
      "  \u001b[36mCell\u001b[39m\u001b[36m \u001b[39m\u001b[32mIn[35]\u001b[39m\u001b[32m, line 1\u001b[39m\n\u001b[31m    \u001b[39m\u001b[31min\u001b[39m\n    ^\n\u001b[31mSyntaxError\u001b[39m\u001b[31m:\u001b[39m invalid syntax\n"
     ]
    }
   ],
   "source": []
  },
  {
   "cell_type": "code",
   "execution_count": 1,
   "id": "05878e98-f719-4a6e-bf9b-1d096191ec8a",
   "metadata": {},
   "outputs": [],
   "source": [
    "ingresos = 1000\n",
    "gastos = 100\n",
    "beneficios = ingresos - gastos"
   ]
  },
  {
   "cell_type": "code",
   "execution_count": 2,
   "id": "1d82ff41-521b-4d1f-a165-e290dd1e35df",
   "metadata": {},
   "outputs": [
    {
     "name": "stdout",
     "output_type": "stream",
     "text": [
      "1000\n",
      "100\n",
      "los beneficios han sido de\n",
      "900\n"
     ]
    }
   ],
   "source": [
    "print (ingresos)\n",
    "print(gastos)\n",
    "print (\"los beneficios han sido de\")\n",
    "print (beneficios)"
   ]
  },
  {
   "cell_type": "code",
   "execution_count": 5,
   "id": "faee130a-85cd-41e1-9bc8-9b8fc1a44a35",
   "metadata": {},
   "outputs": [
    {
     "name": "stdout",
     "output_type": "stream",
     "text": [
      "los beneficios de junio han sido 900 millones\n"
     ]
    }
   ],
   "source": [
    "mes = \"junio\"\n",
    "print (\"los beneficios de %s han sido %s millones\" %(mes, beneficios))"
   ]
  },
  {
   "cell_type": "code",
   "execution_count": 6,
   "id": "a0f38583-cdd3-4fa1-be0f-b4a4bd1a996f",
   "metadata": {},
   "outputs": [
    {
     "name": "stdout",
     "output_type": "stream",
     "text": [
      "los beneficios de 900 han sido junio millones\n"
     ]
    }
   ],
   "source": [
    "print (\"los beneficios de %s han sido %s millones\" %(beneficios,mes))"
   ]
  },
  {
   "cell_type": "code",
   "execution_count": 9,
   "id": "5f119bab-26b1-4860-8a69-eb34dadf9c3e",
   "metadata": {},
   "outputs": [
    {
     "name": "stdout",
     "output_type": "stream",
     "text": [
      "los beneficios de agosto han sido 900 millones\n"
     ]
    }
   ],
   "source": [
    "mes = \"agosto\"\n",
    "print (\"los beneficios de\" , mes, \"han sido\", beneficios, \"millones\")"
   ]
  },
  {
   "cell_type": "code",
   "execution_count": 10,
   "id": "6c2de17a-b0d6-4fe5-b435-4f1d29fa2c19",
   "metadata": {},
   "outputs": [
    {
     "name": "stdout",
     "output_type": "stream",
     "text": [
      "esto lo ejecutará\n"
     ]
    }
   ],
   "source": [
    "# comentario de linea\n",
    "# print (\"esto lo ignora\")\n",
    "\n",
    "print (\"esto lo ejecutará\")"
   ]
  },
  {
   "cell_type": "code",
   "execution_count": 20,
   "id": "122f1778-2038-4fcf-b33f-7f159e9cfce9",
   "metadata": {},
   "outputs": [
    {
     "ename": "SyntaxError",
     "evalue": "invalid character '´' (U+00B4) (2023318700.py, line 1)",
     "output_type": "error",
     "traceback": [
      "  \u001b[36mCell\u001b[39m\u001b[36m \u001b[39m\u001b[32mIn[20]\u001b[39m\u001b[32m, line 1\u001b[39m\n\u001b[31m    \u001b[39m\u001b[31mprint (\"fin del programa\") ´´´esta linea indica que hemos terminado´´´\u001b[39m\n                               ^\n\u001b[31mSyntaxError\u001b[39m\u001b[31m:\u001b[39m invalid character '´' (U+00B4)\n"
     ]
    }
   ],
   "source": [
    "print (\"fin del programa\") ´´´esta linea indica que hemos terminado´´´"
   ]
  },
  {
   "cell_type": "code",
   "execution_count": 17,
   "id": "8cc3a6a6-0298-40f2-a451-ab262c4df724",
   "metadata": {},
   "outputs": [
    {
     "data": {
      "text/plain": [
       "'comentario multilinea\\n'"
      ]
     },
     "execution_count": 17,
     "metadata": {},
     "output_type": "execute_result"
    }
   ],
   "source": [
    "\"\"\"comentario multilinea\n",
    "\"\"\""
   ]
  },
  {
   "cell_type": "code",
   "execution_count": 22,
   "id": "53e5f86f-76df-4233-a8dd-da22059daa5b",
   "metadata": {},
   "outputs": [
    {
     "ename": "NameError",
     "evalue": "name 'ventas_junio' is not defined",
     "output_type": "error",
     "traceback": [
      "\u001b[31m---------------------------------------------------------------------------\u001b[39m",
      "\u001b[31mNameError\u001b[39m                                 Traceback (most recent call last)",
      "\u001b[36mCell\u001b[39m\u001b[36m \u001b[39m\u001b[32mIn[22]\u001b[39m\u001b[32m, line 1\u001b[39m\n\u001b[32m----> \u001b[39m\u001b[32m1\u001b[39m ventas_jun_jul = \u001b[43mventas_junio\u001b[49m + ventas_julio\n\u001b[32m      2\u001b[39m ventas_junio = \u001b[32m100\u001b[39m\n\u001b[32m      3\u001b[39m ventas_julio = \u001b[32m150\u001b[39m\n",
      "\u001b[31mNameError\u001b[39m: name 'ventas_junio' is not defined"
     ]
    }
   ],
   "source": [
    "ventas_jun_jul = ventas_junio + ventas_julio\n",
    "ventas_junio = 100\n",
    "ventas_julio = 150"
   ]
  },
  {
   "cell_type": "code",
   "execution_count": 23,
   "id": "1eef240f-dcb7-4ff7-ba8d-618f6ddd108a",
   "metadata": {},
   "outputs": [
    {
     "ename": "NameError",
     "evalue": "name 'ventas_junio' is not defined",
     "output_type": "error",
     "traceback": [
      "\u001b[31m---------------------------------------------------------------------------\u001b[39m",
      "\u001b[31mNameError\u001b[39m                                 Traceback (most recent call last)",
      "\u001b[36mCell\u001b[39m\u001b[36m \u001b[39m\u001b[32mIn[23]\u001b[39m\u001b[32m, line 1\u001b[39m\n\u001b[32m----> \u001b[39m\u001b[32m1\u001b[39m \u001b[43mventas_junio\u001b[49m\n",
      "\u001b[31mNameError\u001b[39m: name 'ventas_junio' is not defined"
     ]
    }
   ],
   "source": [
    "ventas_junio"
   ]
  },
  {
   "cell_type": "code",
   "execution_count": 24,
   "id": "18997e51-afd3-4a61-bb42-038e49f2922e",
   "metadata": {},
   "outputs": [
    {
     "ename": "NameError",
     "evalue": "name 'ventas_junio' is not defined",
     "output_type": "error",
     "traceback": [
      "\u001b[31m---------------------------------------------------------------------------\u001b[39m",
      "\u001b[31mNameError\u001b[39m                                 Traceback (most recent call last)",
      "\u001b[36mCell\u001b[39m\u001b[36m \u001b[39m\u001b[32mIn[24]\u001b[39m\u001b[32m, line 1\u001b[39m\n\u001b[32m----> \u001b[39m\u001b[32m1\u001b[39m \u001b[38;5;28mprint\u001b[39m (\u001b[43mventas_junio\u001b[49m)\n",
      "\u001b[31mNameError\u001b[39m: name 'ventas_junio' is not defined"
     ]
    }
   ],
   "source": [
    "print (ventas_junio)"
   ]
  },
  {
   "cell_type": "code",
   "execution_count": 26,
   "id": "31273d8e-405b-419a-9ffa-8804cd529df4",
   "metadata": {},
   "outputs": [
    {
     "name": "stdout",
     "output_type": "stream",
     "text": [
      "100\n"
     ]
    },
    {
     "data": {
      "text/plain": [
       "150"
      ]
     },
     "execution_count": 26,
     "metadata": {},
     "output_type": "execute_result"
    }
   ],
   "source": [
    "ventas_junio = 100\n",
    "ventas_julio = 150\n",
    "print (ventas_junio)\n",
    "ventas_julio"
   ]
  },
  {
   "cell_type": "code",
   "execution_count": 32,
   "id": "12049431-aa3b-4e8f-ba4a-e7894ff48b0a",
   "metadata": {},
   "outputs": [
    {
     "name": "stdout",
     "output_type": "stream",
     "text": [
      "las ventas de junio a julio son 250\n"
     ]
    }
   ],
   "source": [
    "ventasjun_jul = ventas_junio + ventas_julio\n",
    "print(\"las ventas de junio a julio son\" , ventasjun_jul)"
   ]
  },
  {
   "cell_type": "code",
   "execution_count": 33,
   "id": "18167fb1-f2ba-4684-a07f-00edf8486a5b",
   "metadata": {},
   "outputs": [
    {
     "name": "stdout",
     "output_type": "stream",
     "text": [
      "1.8 75\n"
     ]
    }
   ],
   "source": [
    "altura=1.80; peso=75\n",
    "print(altura,peso)"
   ]
  },
  {
   "cell_type": "code",
   "execution_count": null,
   "id": "8c8919d7-a02a-4427-8b41-a02ef50148c9",
   "metadata": {
    "jupyter": {
     "source_hidden": true
    }
   },
   "outputs": [],
   "source": [
    "x,y,z=12,23,45"
   ]
  },
  {
   "cell_type": "code",
   "execution_count": null,
   "id": "0c1d3aa6-cf5e-4424-8238-c2b1d282f6d7",
   "metadata": {},
   "outputs": [],
   "source": [
    "x=12\n",
    "y=23\n",
    "z=45"
   ]
  },
  {
   "cell_type": "code",
   "execution_count": 34,
   "id": "d4fb3022-5415-46a4-a573-6596c77090e8",
   "metadata": {},
   "outputs": [],
   "source": [
    "altura = 1.85\n",
    "del altura"
   ]
  },
  {
   "cell_type": "code",
   "execution_count": 35,
   "id": "0c304d9f-1859-41d4-a378-556599ec6260",
   "metadata": {},
   "outputs": [
    {
     "ename": "NameError",
     "evalue": "name 'altura' is not defined",
     "output_type": "error",
     "traceback": [
      "\u001b[31m---------------------------------------------------------------------------\u001b[39m",
      "\u001b[31mNameError\u001b[39m                                 Traceback (most recent call last)",
      "\u001b[36mCell\u001b[39m\u001b[36m \u001b[39m\u001b[32mIn[35]\u001b[39m\u001b[32m, line 1\u001b[39m\n\u001b[32m----> \u001b[39m\u001b[32m1\u001b[39m \u001b[43maltura\u001b[49m\n",
      "\u001b[31mNameError\u001b[39m: name 'altura' is not defined"
     ]
    }
   ],
   "source": [
    "altura"
   ]
  },
  {
   "cell_type": "code",
   "execution_count": null,
   "id": "7b611352-87f8-4671-9e43-e5622a7a7070",
   "metadata": {},
   "outputs": [],
   "source": []
  },
  {
   "cell_type": "code",
   "execution_count": null,
   "id": "98172ade-5b5f-4266-b803-1744a4bd57e8",
   "metadata": {},
   "outputs": [],
   "source": []
  },
  {
   "cell_type": "code",
   "execution_count": null,
   "id": "246fb495-dd16-41d9-a745-66d006bb4fe6",
   "metadata": {},
   "outputs": [],
   "source": []
  },
  {
   "cell_type": "code",
   "execution_count": null,
   "id": "a5d86f6c-68e2-4c0b-9a09-7bec27b99323",
   "metadata": {},
   "outputs": [],
   "source": []
  },
  {
   "cell_type": "code",
   "execution_count": null,
   "id": "73568476-d1ac-41e7-8b74-f9035d908c44",
   "metadata": {},
   "outputs": [],
   "source": []
  },
  {
   "cell_type": "code",
   "execution_count": null,
   "id": "a589ba1f-d01a-4b7d-80e0-31024e24b4fa",
   "metadata": {},
   "outputs": [],
   "source": []
  },
  {
   "cell_type": "code",
   "execution_count": null,
   "id": "6b867c54-5792-44d8-8bcf-06d21f596ad2",
   "metadata": {},
   "outputs": [],
   "source": []
  },
  {
   "cell_type": "code",
   "execution_count": null,
   "id": "adea84be-22f0-479d-b016-b1b884b2993a",
   "metadata": {},
   "outputs": [],
   "source": []
  },
  {
   "cell_type": "code",
   "execution_count": null,
   "id": "95150f97-6320-4d2e-a309-3b9de9680640",
   "metadata": {},
   "outputs": [],
   "source": []
  },
  {
   "cell_type": "code",
   "execution_count": null,
   "id": "e46cc9ab-05c2-4636-8ba5-d97edf26ff44",
   "metadata": {
    "jupyter": {
     "source_hidden": true
    }
   },
   "outputs": [],
   "source": []
  }
 ],
 "metadata": {
  "kernelspec": {
   "display_name": "Python 3 (ipykernel)",
   "language": "python",
   "name": "python3"
  },
  "language_info": {
   "codemirror_mode": {
    "name": "ipython",
    "version": 3
   },
   "file_extension": ".py",
   "mimetype": "text/x-python",
   "name": "python",
   "nbconvert_exporter": "python",
   "pygments_lexer": "ipython3",
   "version": "3.13.7"
  }
 },
 "nbformat": 4,
 "nbformat_minor": 5
}
