{
 "cells": [
  {
   "cell_type": "code",
   "execution_count": 1,
   "id": "d09b75da-2a35-4cf8-9b4b-224f818858e6",
   "metadata": {},
   "outputs": [
    {
     "name": "stdout",
     "output_type": "stream",
     "text": [
      "<class 'float'>\n"
     ]
    }
   ],
   "source": [
    "num_real= 24.69\n",
    "print(type(num_real))"
   ]
  },
  {
   "cell_type": "code",
   "execution_count": 2,
   "id": "f1432b45-90c9-4066-8f48-d1ac37e1a718",
   "metadata": {},
   "outputs": [
    {
     "name": "stdout",
     "output_type": "stream",
     "text": [
      "24\n",
      "<class 'int'>\n"
     ]
    }
   ],
   "source": [
    "num_entero=int(num_real)\n",
    "print(num_entero)\n",
    "print(type(num_entero))"
   ]
  },
  {
   "cell_type": "code",
   "execution_count": 5,
   "id": "9d5f7f95-bfc8-4a3a-b610-816bd7d283c3",
   "metadata": {},
   "outputs": [
    {
     "name": "stdout",
     "output_type": "stream",
     "text": [
      "24.69\n"
     ]
    }
   ],
   "source": [
    "num_real=24.686\n",
    "num_redondeado=round(num_real,2)\n",
    "print(num_redondeado)"
   ]
  },
  {
   "cell_type": "code",
   "execution_count": 6,
   "id": "c0d53fc6-9329-4762-9460-fe8cafd1ea5c",
   "metadata": {},
   "outputs": [
    {
     "name": "stdout",
     "output_type": "stream",
     "text": [
      "25.0 <class 'float'>\n"
     ]
    }
   ],
   "source": [
    "num_redondeado=24.69\n",
    "num_convertido=round(num_redondeado,0)\n",
    "print(num_convertido, type(num_convertido))"
   ]
  },
  {
   "cell_type": "code",
   "execution_count": 9,
   "id": "7b50df82-a38b-4102-9e6c-aa2045d7857b",
   "metadata": {},
   "outputs": [
    {
     "name": "stdout",
     "output_type": "stream",
     "text": [
      "25\n"
     ]
    }
   ],
   "source": [
    "print(int(num_convertido))"
   ]
  },
  {
   "cell_type": "code",
   "execution_count": 3,
   "id": "e1cbafb9-577d-4f7f-a597-c9b4e8d02741",
   "metadata": {},
   "outputs": [
    {
     "name": "stdout",
     "output_type": "stream",
     "text": [
      "24.69 su tipo <class 'str'>\n",
      "12 su tipo <class 'str'>\n"
     ]
    }
   ],
   "source": [
    "num_real=24.69\n",
    "num_entero=12\n",
    "real_str=str(num_real)\n",
    "entero_str=str(num_entero)\n",
    "print(real_str, \"su tipo\", type(real_str))\n",
    "print(entero_str, \"su tipo\",type(entero_str))"
   ]
  },
  {
   "cell_type": "code",
   "execution_count": 4,
   "id": "debb5ca3-565f-4568-823e-5b3bdc63e707",
   "metadata": {},
   "outputs": [
    {
     "name": "stdout",
     "output_type": "stream",
     "text": [
      "36.69\n",
      "24.6912\n"
     ]
    }
   ],
   "source": [
    "print(num_real+num_entero)\n",
    "print(real_str+entero_str)"
   ]
  },
  {
   "cell_type": "code",
   "execution_count": 5,
   "id": "a254f329-b33e-4d5e-9a55-b0485db32ece",
   "metadata": {},
   "outputs": [
    {
     "name": "stdout",
     "output_type": "stream",
     "text": [
      "98\n"
     ]
    }
   ],
   "source": [
    "mi_entero=98\n",
    "print(mi_entero)"
   ]
  },
  {
   "cell_type": "code",
   "execution_count": 8,
   "id": "6bbd4c56-94c1-4ae4-9426-d6eb99c509e5",
   "metadata": {},
   "outputs": [
    {
     "name": "stdout",
     "output_type": "stream",
     "text": [
      "98 <class 'str'>\n",
      "98 <class 'int'>\n"
     ]
    }
   ],
   "source": [
    "mi_cadena=\"98\"\n",
    "mi_entero=int(mi_cadena)\n",
    "print(mi_cadena, type(mi_cadena))\n",
    "print(mi_entero, type(mi_entero))"
   ]
  },
  {
   "cell_type": "code",
   "execution_count": 11,
   "id": "313fb6a0-86d6-4229-a46f-d1a1b75a7223",
   "metadata": {},
   "outputs": [],
   "source": [
    "mi_cadena_real=\"98,33\"\n",
    "mi_real=float(mi_cadena_real)"
   ]
  },
  {
   "cell_type": "code",
   "execution_count": 12,
   "id": "7aa3879c-f9ed-453d-945b-bc43fa780b2c",
   "metadata": {},
   "outputs": [
    {
     "name": "stdout",
     "output_type": "stream",
     "text": [
      "98.33 <class 'float'>\n"
     ]
    }
   ],
   "source": [
    "mi_cadena_real=\"98.33\"\n",
    "mi_real=float(mi_cadena_real)\n",
    "print(mi_real, type(mi_real))"
   ]
  },
  {
   "cell_type": "code",
   "execution_count": 13,
   "id": "df31b2f9-bd85-49e4-8946-29496c56bd1c",
   "metadata": {},
   "outputs": [
    {
     "name": "stdout",
     "output_type": "stream",
     "text": [
      "True <class 'bool'>\n"
     ]
    }
   ],
   "source": [
    "c=bool(123)\n",
    "print(c, type(c))"
   ]
  },
  {
   "cell_type": "code",
   "execution_count": 14,
   "id": "6054b22e-950e-46ee-acaf-2d960f0aaa4d",
   "metadata": {},
   "outputs": [
    {
     "name": "stdout",
     "output_type": "stream",
     "text": [
      "False <class 'bool'>\n"
     ]
    }
   ],
   "source": [
    "d=bool(0)\n",
    "print(d, type(d))"
   ]
  },
  {
   "cell_type": "code",
   "execution_count": 15,
   "id": "1ae51859-2739-4045-93f9-fc3f08890575",
   "metadata": {},
   "outputs": [
    {
     "name": "stdout",
     "output_type": "stream",
     "text": [
      "False <class 'bool'>\n",
      "True <class 'bool'>\n"
     ]
    }
   ],
   "source": [
    "booleano=(bool(\"\"))\n",
    "booleano_2=bool(\"esto es otro tipo de booleano al hacer la conversión\")\n",
    "print(booleano, type (booleano))\n",
    "print(booleano_2, type(booleano_2))\n",
    "          "
   ]
  },
  {
   "cell_type": "code",
   "execution_count": 16,
   "id": "07e93d42-d138-4dd1-9527-f1526403bd31",
   "metadata": {},
   "outputs": [
    {
     "name": "stdout",
     "output_type": "stream",
     "text": [
      "False True\n"
     ]
    }
   ],
   "source": [
    "bool_str=str(booleano)\n",
    "bool_2_str=str(booleano_2)\n",
    "print(bool_str, bool_2_str)"
   ]
  },
  {
   "cell_type": "code",
   "execution_count": 20,
   "id": "4a877315-f97b-4678-93e1-314d170e5159",
   "metadata": {},
   "outputs": [
    {
     "ename": "ValueError",
     "evalue": "could not convert string to float: '68,34'",
     "output_type": "error",
     "traceback": [
      "\u001b[31m---------------------------------------------------------------------------\u001b[39m",
      "\u001b[31mValueError\u001b[39m                                Traceback (most recent call last)",
      "\u001b[36mCell\u001b[39m\u001b[36m \u001b[39m\u001b[32mIn[20]\u001b[39m\u001b[32m, line 2\u001b[39m\n\u001b[32m      1\u001b[39m real_str=\u001b[33m\"\u001b[39m\u001b[33m68,34\u001b[39m\u001b[33m\"\u001b[39m\n\u001b[32m----> \u001b[39m\u001b[32m2\u001b[39m real=\u001b[38;5;28;43mfloat\u001b[39;49m\u001b[43m(\u001b[49m\u001b[43mreal_str\u001b[49m\u001b[43m)\u001b[49m\n",
      "\u001b[31mValueError\u001b[39m: could not convert string to float: '68,34'"
     ]
    }
   ],
   "source": [
    "real_str=\"68,34\"\n",
    "real=float(real_str)\n"
   ]
  },
  {
   "cell_type": "code",
   "execution_count": 21,
   "id": "d02d3867-61ab-4baa-a03f-d398802d9ab5",
   "metadata": {},
   "outputs": [
    {
     "data": {
      "text/plain": [
       "'68.34'"
      ]
     },
     "execution_count": 21,
     "metadata": {},
     "output_type": "execute_result"
    }
   ],
   "source": [
    "real_str.replace(\",\",\".\")"
   ]
  },
  {
   "cell_type": "code",
   "execution_count": 25,
   "id": "0dfabd7c-4547-4a61-9bfe-03b89153f991",
   "metadata": {},
   "outputs": [
    {
     "name": "stdout",
     "output_type": "stream",
     "text": [
      "<class 'str'>\n"
     ]
    }
   ],
   "source": [
    "nuevo_str = real_str.replace(\",\",\".\")\n",
    "print(type(nuevo_str))"
   ]
  },
  {
   "cell_type": "code",
   "execution_count": 26,
   "id": "fa19b987-1187-4a27-b6f5-bffd7fbf9211",
   "metadata": {},
   "outputs": [
    {
     "name": "stdout",
     "output_type": "stream",
     "text": [
      "68.34 <class 'float'>\n"
     ]
    }
   ],
   "source": [
    "real=float(nuevo_str)\n",
    "print(real,type(real))"
   ]
  },
  {
   "cell_type": "code",
   "execution_count": 27,
   "id": "2b5e10c5-aba2-4c20-9860-3880f74d1e84",
   "metadata": {},
   "outputs": [
    {
     "name": "stdin",
     "output_type": "stream",
     "text": [
      "escribeme argo 98\n"
     ]
    }
   ],
   "source": [
    "primer_input = input(\"escribeme argo\")"
   ]
  },
  {
   "cell_type": "code",
   "execution_count": 29,
   "id": "afbffd06-7447-4c75-a7fa-005ce51b2bec",
   "metadata": {},
   "outputs": [
    {
     "name": "stdout",
     "output_type": "stream",
     "text": [
      "98\n"
     ]
    }
   ],
   "source": [
    "print(primer_input)"
   ]
  },
  {
   "cell_type": "code",
   "execution_count": 30,
   "id": "45165485-6fa8-4752-8ad1-075665712612",
   "metadata": {},
   "outputs": [
    {
     "data": {
      "text/plain": [
       "str"
      ]
     },
     "execution_count": 30,
     "metadata": {},
     "output_type": "execute_result"
    }
   ],
   "source": [
    "type(primer_input)"
   ]
  },
  {
   "cell_type": "code",
   "execution_count": 34,
   "id": "29892525-d725-494f-be38-6b28e94d2edd",
   "metadata": {},
   "outputs": [
    {
     "name": "stdin",
     "output_type": "stream",
     "text": [
      "¿como te llamas? J C\n"
     ]
    },
    {
     "name": "stdout",
     "output_type": "stream",
     "text": [
      "encantado J C\n"
     ]
    },
    {
     "name": "stdin",
     "output_type": "stream",
     "text": [
      "que te parece el video DIDACTICO\n"
     ]
    },
    {
     "name": "stdout",
     "output_type": "stream",
     "text": [
      "coincido\n"
     ]
    }
   ],
   "source": [
    "nombre=input(\"¿como te llamas?\")\n",
    "print(\"encantado\",nombre)\n",
    "preferencias= input(\"que te parece el video\")\n",
    "print(\"coincido\")"
   ]
  },
  {
   "cell_type": "code",
   "execution_count": 36,
   "id": "5ce64c81-e087-4522-8732-9bfa6feb88e5",
   "metadata": {},
   "outputs": [
    {
     "name": "stdout",
     "output_type": "stream",
     "text": [
      "None\n"
     ]
    }
   ],
   "source": [
    "print(None)"
   ]
  },
  {
   "cell_type": "code",
   "execution_count": 37,
   "id": "274608be-7668-4510-86f8-ea824fab4800",
   "metadata": {},
   "outputs": [
    {
     "name": "stdout",
     "output_type": "stream",
     "text": [
      "<class 'NoneType'>\n"
     ]
    }
   ],
   "source": [
    "print(type(None))"
   ]
  },
  {
   "cell_type": "code",
   "execution_count": 38,
   "id": "cef35b6d-fba9-4257-b57b-5d2156cfa177",
   "metadata": {},
   "outputs": [
    {
     "data": {
      "text/plain": [
       "False"
      ]
     },
     "execution_count": 38,
     "metadata": {},
     "output_type": "execute_result"
    }
   ],
   "source": [
    "\"\"==None"
   ]
  },
  {
   "cell_type": "code",
   "execution_count": 39,
   "id": "d1f989bf-e9b6-41ab-b811-6ee0a4f9132e",
   "metadata": {},
   "outputs": [
    {
     "data": {
      "text/plain": [
       "False"
      ]
     },
     "execution_count": 39,
     "metadata": {},
     "output_type": "execute_result"
    }
   ],
   "source": [
    "0==None"
   ]
  },
  {
   "cell_type": "code",
   "execution_count": 40,
   "id": "7f080afa-282b-4f36-939b-feeb6f745d1c",
   "metadata": {},
   "outputs": [
    {
     "name": "stdout",
     "output_type": "stream",
     "text": [
      "The Zen of Python, by Tim Peters\n",
      "\n",
      "Beautiful is better than ugly.\n",
      "Explicit is better than implicit.\n",
      "Simple is better than complex.\n",
      "Complex is better than complicated.\n",
      "Flat is better than nested.\n",
      "Sparse is better than dense.\n",
      "Readability counts.\n",
      "Special cases aren't special enough to break the rules.\n",
      "Although practicality beats purity.\n",
      "Errors should never pass silently.\n",
      "Unless explicitly silenced.\n",
      "In the face of ambiguity, refuse the temptation to guess.\n",
      "There should be one-- and preferably only one --obvious way to do it.\n",
      "Although that way may not be obvious at first unless you're Dutch.\n",
      "Now is better than never.\n",
      "Although never is often better than *right* now.\n",
      "If the implementation is hard to explain, it's a bad idea.\n",
      "If the implementation is easy to explain, it may be a good idea.\n",
      "Namespaces are one honking great idea -- let's do more of those!\n"
     ]
    }
   ],
   "source": [
    "import this"
   ]
  },
  {
   "cell_type": "code",
   "execution_count": null,
   "id": "f2a4c18a-848e-4115-acb1-714c2b1a4eac",
   "metadata": {},
   "outputs": [],
   "source": []
  },
  {
   "cell_type": "code",
   "execution_count": null,
   "id": "06767350-33e6-4e5f-9e07-42f944cfdf10",
   "metadata": {},
   "outputs": [],
   "source": []
  },
  {
   "cell_type": "code",
   "execution_count": null,
   "id": "2871538d-1e77-40bd-8796-4865143749a9",
   "metadata": {},
   "outputs": [],
   "source": []
  },
  {
   "cell_type": "code",
   "execution_count": null,
   "id": "365e2c78-4e50-4af0-a5f0-cdac5b3c8391",
   "metadata": {},
   "outputs": [],
   "source": []
  },
  {
   "cell_type": "code",
   "execution_count": null,
   "id": "342f3d19-1129-48e5-a062-5f1e05acb83f",
   "metadata": {},
   "outputs": [],
   "source": []
  },
  {
   "cell_type": "code",
   "execution_count": null,
   "id": "58aeb23c-9c75-4741-8676-c716f3dba4ae",
   "metadata": {},
   "outputs": [],
   "source": []
  },
  {
   "cell_type": "code",
   "execution_count": null,
   "id": "9194ebbb-7696-45a6-ab60-792750e10e5e",
   "metadata": {},
   "outputs": [],
   "source": []
  },
  {
   "cell_type": "code",
   "execution_count": null,
   "id": "dfef7145-6b09-4f10-b493-6c4e8903f129",
   "metadata": {},
   "outputs": [],
   "source": []
  },
  {
   "cell_type": "code",
   "execution_count": null,
   "id": "1a762738-2b72-4790-9fb1-412000c84653",
   "metadata": {},
   "outputs": [],
   "source": []
  }
 ],
 "metadata": {
  "kernelspec": {
   "display_name": "Python 3 (ipykernel)",
   "language": "python",
   "name": "python3"
  },
  "language_info": {
   "codemirror_mode": {
    "name": "ipython",
    "version": 3
   },
   "file_extension": ".py",
   "mimetype": "text/x-python",
   "name": "python",
   "nbconvert_exporter": "python",
   "pygments_lexer": "ipython3",
   "version": "3.13.7"
  }
 },
 "nbformat": 4,
 "nbformat_minor": 5
}
