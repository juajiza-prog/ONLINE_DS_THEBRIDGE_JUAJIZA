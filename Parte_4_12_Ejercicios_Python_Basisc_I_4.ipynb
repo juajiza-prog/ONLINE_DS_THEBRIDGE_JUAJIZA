{
  "cells": [
    {
      "cell_type": "markdown",
      "metadata": {
        "colab_type": "text",
        "id": "view-in-github"
      },
      "source": [
        "<a href=\"https://colab.research.google.com/github/juajiza-prog/DATA_SCIENCE_THEBRIDGE_2025/blob/main/Parte_4_12_Ejercicios_Python_Basisc_I_4.ipynb\" target=\"_parent\"><img src=\"https://colab.research.google.com/assets/colab-badge.svg\" alt=\"Open In Colab\"/></a>"
      ]
    },
    {
      "cell_type": "markdown",
      "metadata": {
        "id": "sn7lKV4dzBEx"
      },
      "source": [
        "![TheBridge_logo_RGB_color.jpg](attachment:TheBridge_logo_RGB_color.jpg)"
      ]
    },
    {
      "cell_type": "markdown",
      "metadata": {
        "id": "u8YhqXnvzBE-"
      },
      "source": [
        "![imagen](./img/ejercicios.png)"
      ]
    },
    {
      "cell_type": "markdown",
      "metadata": {
        "id": "tEsKLiYKzBFE"
      },
      "source": [
        "## EJERCICIOS PYTHON BASICO 4:\n",
        "## Funciones, métodos, listas"
      ]
    },
    {
      "cell_type": "markdown",
      "metadata": {
        "id": "JkEs83uQzBFI"
      },
      "source": [
        "Completa los siguiente ejercicios, la solución completa a los mismos se publicarán en el repo del curso a lo largo del sprint. En algunos ejercicios se muestra la solución final, para que puedas comprobar que lo has hecho bien, pero lo importante es el código que generes. ¡Vaaamos, a ello...!"
      ]
    },
    {
      "cell_type": "markdown",
      "metadata": {
        "id": "T9ZSrNWPzBFM"
      },
      "source": [
        "![ejercicio.png](./img/ejercicio.png)\n",
        "\n",
        "## Ejercicio 1\n",
        "Para este ejercicio vamos a poner en práctica [las funciones built in](https://docs.python.org/3/library/functions.html).\n",
        "\n",
        "1. Calcula el máximo de la lista: [4, 6, 8, -1]\n",
        "2. Suma todos los elementos de la lista anterior\n",
        "3. Redondea este float a 3 dígitos decimales: 63.451256965\n",
        "4. Valor absoluto de: -74"
      ]
    },
    {
      "cell_type": "code",
      "execution_count": null,
      "metadata": {
        "id": "maEDim53zBFO"
      },
      "outputs": [
        {
          "name": "stdout",
          "output_type": "stream",
          "text": [
            "maximo de la lista 8\n"
          ]
        }
      ],
      "source": [
        "## EJERCICIO 1.1\n",
        "a = [4,6,8,-1]\n",
        "maximo = max(a)\n",
        "print(\"maximo de la lista\", maximo)"
      ]
    },
    {
      "cell_type": "code",
      "execution_count": null,
      "metadata": {},
      "outputs": [
        {
          "name": "stdout",
          "output_type": "stream",
          "text": [
            "suma de todos los numeros 17\n"
          ]
        }
      ],
      "source": [
        "## EJERCICIO 1.2\n",
        "suma_tot=sum(a)\n",
        "print(\"suma de todos los numeros\", suma_tot)"
      ]
    },
    {
      "cell_type": "code",
      "execution_count": null,
      "metadata": {},
      "outputs": [
        {
          "name": "stdout",
          "output_type": "stream",
          "text": [
            "Número redondeado a 3 decimales: 63.451\n"
          ]
        }
      ],
      "source": [
        "## EJERCICIO 1.3\n",
        "numero_decimal = 63.451256965\n",
        "redondeado = round(numero_decimal, 3)\n",
        "print(\"Número redondeado a 3 decimales:\", redondeado)"
      ]
    },
    {
      "cell_type": "code",
      "execution_count": 12,
      "metadata": {},
      "outputs": [
        {
          "name": "stdout",
          "output_type": "stream",
          "text": [
            "Valor absoluto de -74: 74\n"
          ]
        }
      ],
      "source": [
        "## EJERCICIO 1.4\n",
        "numero_negativo = -74\n",
        "valor_absoluto = abs(numero_negativo)\n",
        "print(\"Valor absoluto de -74:\", valor_absoluto)"
      ]
    },
    {
      "cell_type": "code",
      "execution_count": null,
      "metadata": {},
      "outputs": [],
      "source": []
    },
    {
      "cell_type": "markdown",
      "metadata": {
        "id": "pnxeziPbzBFS"
      },
      "source": [
        "![ejercicio.png](./img/ejercicio.png)\n",
        "\n",
        "## Ejercicio 2\n",
        "Para el siguiente string se pide imprimir por pantalla los siguientes casos\n",
        "\n",
        "    \"En un lugar de la Mancha, de cuyo nombre no quiero acordarme.\"\n",
        "\n",
        "1. Pásalo todo a mayúsculas\n",
        "2. Pásalo todo a minúsculas\n",
        "3. Solo la primera letra de cada palabra en mayúscula, el resto en minúscula\n",
        "4. Crea una lista dividiéndolo por sus espacios\n",
        "5. Sustituye las comas `,` por puntos y comas `;`\n",
        "6. Elimina las `a` minúsculas"
      ]
    },
    {
      "cell_type": "code",
      "execution_count": null,
      "metadata": {
        "id": "2bTPYCTOzBFb",
        "outputId": "1a6793c6-a8df-436f-9479-d4a71937a4f7"
      },
      "outputs": [
        {
          "name": "stdout",
          "output_type": "stream",
          "text": [
            "EN UN LUGAR DE LA MANCHA, DE CUYO NOMBRE NO QUIERO ACORDARME.\n",
            "en un lugar de la mancha, de cuyo nombre no quiero acordarme.\n",
            "En Un Lugar De La Mancha, De Cuyo Nombre No Quiero Acordarme.\n",
            "['En', 'un', 'lugar', 'de', 'la', 'Mancha,', 'de', 'cuyo', 'nombre', 'no', 'quiero', 'acordarme.']\n",
            "En un lugar de la Mancha; de cuyo nombre no quiero acordarme.\n",
            "En un lugr de l Mnch, de cuyo nombre no quiero cordrme.\n"
          ]
        }
      ],
      "source": []
    },
    {
      "cell_type": "code",
      "execution_count": 15,
      "metadata": {},
      "outputs": [
        {
          "name": "stdout",
          "output_type": "stream",
          "text": [
            "CONVERT MAYUSCULAS: EN UN LUGAR DE LA MANCHA, DE CUYO NOMBRE NO QUIERO ACORDARME.\n"
          ]
        }
      ],
      "source": [
        "frase_ori= (\"En un lugar de la Mancha, de cuyo nombre no quiero acordarme.\")\n",
        "frase_mayus=frase_ori.upper()\n",
        "print(\"CONVERT MAYUSCULAS:\", frase_mayus)"
      ]
    },
    {
      "cell_type": "code",
      "execution_count": 16,
      "metadata": {},
      "outputs": [
        {
          "name": "stdout",
          "output_type": "stream",
          "text": [
            "CONVERT MINUSCULAS: en un lugar de la mancha, de cuyo nombre no quiero acordarme.\n"
          ]
        }
      ],
      "source": [
        "frase_ori= (\"En un lugar de la Mancha, de cuyo nombre no quiero acordarme.\")\n",
        "frase_minus=frase_ori.lower()\n",
        "print(\"CONVERT MINUSCULAS:\", frase_minus)"
      ]
    },
    {
      "cell_type": "code",
      "execution_count": 17,
      "metadata": {},
      "outputs": [
        {
          "name": "stdout",
          "output_type": "stream",
          "text": [
            "CONVERT mayus_minus: En Un Lugar De La Mancha, De Cuyo Nombre No Quiero Acordarme.\n"
          ]
        }
      ],
      "source": [
        "frase_ori= (\"En un lugar de la Mancha, de cuyo nombre no quiero acordarme.\")\n",
        "frase_mayus_minus=frase_ori.title()\n",
        "print(\"CONVERT mayus_minus:\", frase_mayus_minus)"
      ]
    },
    {
      "cell_type": "code",
      "execution_count": 19,
      "metadata": {},
      "outputs": [
        {
          "name": "stdout",
          "output_type": "stream",
          "text": [
            "CONVERT espacios: ['En', 'un', 'lugar', 'de', 'la', 'Mancha,', 'de', 'cuyo', 'nombre', 'no', 'quiero', 'acordarme.']\n"
          ]
        }
      ],
      "source": [
        "frase_ori= (\"En un lugar de la Mancha, de cuyo nombre no quiero acordarme.\")\n",
        "frase_espacios=frase_ori.split()\n",
        "print(\"CONVERT espacios:\", frase_espacios)"
      ]
    },
    {
      "cell_type": "code",
      "execution_count": 20,
      "metadata": {},
      "outputs": [
        {
          "name": "stdout",
          "output_type": "stream",
          "text": [
            "CONVERT sustitucion: En un lugar de la Mancha; de cuyo nombre no quiero acordarme.\n"
          ]
        }
      ],
      "source": [
        "frase_ori= (\"En un lugar de la Mancha, de cuyo nombre no quiero acordarme.\")\n",
        "frase_sust=frase_ori.replace(\",\",\";\")\n",
        "print(\"CONVERT sustitucion:\", frase_sust)"
      ]
    },
    {
      "cell_type": "code",
      "execution_count": null,
      "metadata": {},
      "outputs": [
        {
          "name": "stdout",
          "output_type": "stream",
          "text": [
            "CONVERT eliminaa: En un lugr de l Mnch, de cuyo nombre no quiero cordrme.\n"
          ]
        }
      ],
      "source": [
        "frase_outa=frase_ori.replace(\"a\",\"\")\n",
        "print(\"CONVERT elimina:\", frase_outa)"
      ]
    },
    {
      "cell_type": "code",
      "execution_count": null,
      "metadata": {},
      "outputs": [],
      "source": []
    },
    {
      "cell_type": "markdown",
      "metadata": {
        "id": "9w-NBRutzBFm"
      },
      "source": [
        "![ejercicio.png](./img/ejercicio.png)\n",
        "\n",
        "## Ejercicio 3\n",
        "1. Crea una lista con 3 elementos numéricos\n",
        "2. Añade un cuarto elemento\n",
        "3. Calcula la suma de todos\n",
        "4. Elimina el segundo elemento de la lista\n",
        "5. Añade otro elemento en la posicion 3 de la lista\n",
        "6. Crea otra lista con 4 elementos y concaténala a la que ya tenías.\n",
        "7. Ordena la lista de menor a mayor.\n",
        "8. BONUS: Ordena la lista de mayor a menor.  \n",
        "(*PISTA: Para hacer 8, tendrás que buscar en la información del método...*)  \n",
        "  \n",
        "  \n",
        "NOTA: Pinta por pantalla el resultado de cada paso."
      ]
    },
    {
      "cell_type": "code",
      "execution_count": 36,
      "metadata": {
        "id": "jo6aLiT5zBFq",
        "outputId": "4dff742b-72e2-4d83-d946-1a372223a067"
      },
      "outputs": [
        {
          "name": "stdout",
          "output_type": "stream",
          "text": [
            "20\n",
            "lista despues de eliminar el 2º [2, 6, 8]\n",
            "lista insertada nueva [2, 6, 88, 8]\n",
            "[2, 6, 88, 8, 3, 6, 9, 12]\n",
            "[2, 3, 6, 6, 8, 9, 12, 88]\n",
            "De mayor a menor [88, 12, 9, 8, 6, 6, 3, 2]\n"
          ]
        }
      ],
      "source": [
        "### 3.1\n",
        "c=[2,4,6]\n",
        "### 3.2\n",
        "d = [2,4,6,8]\n",
        "### 3.3\n",
        "sd=sum(d)\n",
        "print (sd)\n",
        "### 3.4\n",
        "d.remove(4)\n",
        "print(\"lista despues de eliminar el 2º\", d)\n",
        "### 3.5\n",
        "d.insert (2,88)\n",
        "print(\"lista insertada nueva\", d)\n",
        "### 3.6 crear concatenacion\n",
        "e=[3,6,9,12]\n",
        "f=d+e\n",
        "print(f)\n",
        "### 3.7 ordenada\n",
        "ordenada= sorted(f)\n",
        "print(ordenada)\n",
        "### 3.8 mayor a menor\n",
        "MM=sorted (ordenada, reverse=True)\n",
        "print (\"De mayor a menor\", MM)"
      ]
    }
  ],
  "metadata": {
    "colab": {
      "include_colab_link": true,
      "provenance": []
    },
    "kernelspec": {
      "display_name": "Python 3",
      "language": "python",
      "name": "python3"
    },
    "language_info": {
      "codemirror_mode": {
        "name": "ipython",
        "version": 3
      },
      "file_extension": ".py",
      "mimetype": "text/x-python",
      "name": "python",
      "nbconvert_exporter": "python",
      "pygments_lexer": "ipython3",
      "version": "3.11.9"
    },
    "orig_nbformat": 4
  },
  "nbformat": 4,
  "nbformat_minor": 0
}
