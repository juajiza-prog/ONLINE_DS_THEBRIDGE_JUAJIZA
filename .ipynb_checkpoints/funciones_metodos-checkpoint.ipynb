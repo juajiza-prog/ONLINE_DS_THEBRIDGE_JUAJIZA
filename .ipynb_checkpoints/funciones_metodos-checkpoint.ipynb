{
 "cells": [
  {
   "cell_type": "code",
   "execution_count": 2,
   "id": "7520cff2-b6c0-409b-bdd3-0f1f869bdabe",
   "metadata": {
    "jupyter": {
     "source_hidden": true
    }
   },
   "outputs": [
    {
     "name": "stdout",
     "output_type": "stream",
     "text": [
      "32\n",
      "25\n"
     ]
    }
   ],
   "source": [
    "print(len(\"esto es un cadena de longitud...\"))\n",
    "print(max((1,12,13,24,25,6)))"
   ]
  },
  {
   "cell_type": "code",
   "execution_count": 5,
   "id": "c6afa156-0f32-46c1-a471-4cba5afffb8f",
   "metadata": {},
   "outputs": [
    {
     "name": "stdout",
     "output_type": "stream",
     "text": [
      "La longitus de esta cadena es**test**29\n"
     ]
    }
   ],
   "source": [
    "cadena = \"La longitus de esta cadena es\"\n",
    "print(cadena,len(cadena),sep=\"**test**\")"
   ]
  },
  {
   "cell_type": "code",
   "execution_count": 7,
   "id": "f7a8441b-6df6-4461-9aef-97d25d42d08f",
   "metadata": {},
   "outputs": [
    {
     "name": "stdout",
     "output_type": "stream",
     "text": [
      "La longitud de esta cadena es**test**29**test**y no es un float__esto va en otra linea\n"
     ]
    }
   ],
   "source": [
    "cadena = \"La longitud de esta cadena es\"\n",
    "print(cadena,len(cadena),\"y no es un float\", sep=\"**test**\", end=\"__\")\n",
    "print(\"esto va en otra linea\")"
   ]
  },
  {
   "cell_type": "code",
   "execution_count": 11,
   "id": "3bdf0c30-687f-4548-a638-98e242fd8143",
   "metadata": {},
   "outputs": [
    {
     "name": "stdout",
     "output_type": "stream",
     "text": [
      "STRING EN MINUSCULAS\n"
     ]
    }
   ],
   "source": [
    "string_ejemplo=(\"string en minusculas\")\n",
    "# metodo para poner un string todo en mayusculas\n",
    "print (string_ejemplo.upper())"
   ]
  },
  {
   "cell_type": "code",
   "execution_count": 14,
   "id": "33ecc45f-da82-42d7-81ea-507ed540d37d",
   "metadata": {},
   "outputs": [
    {
     "name": "stdout",
     "output_type": "stream",
     "text": [
      "esto es un ejemplo diferente\n",
      "esto es un metodo diferente\n"
     ]
    }
   ],
   "source": [
    "# metodo para poner todo todo en minusculas\n",
    "print (\"ESTO ES UN EJEMPLO DIFERENTE\".lower())\n",
    "string_ejemplo2= (\"esto es un metodo diferente\")\n",
    "print (string_ejemplo2.lower())"
   ]
  },
  {
   "cell_type": "code",
   "execution_count": 15,
   "id": "be36be2f-2c0a-46d2-ba31-2672236f23dd",
   "metadata": {},
   "outputs": [
    {
     "name": "stdout",
     "output_type": "stream",
     "text": [
      "ctring en minucculac\n"
     ]
    }
   ],
   "source": [
    "# metodo para reemplazar algun caracter o varios\n",
    "# reemplazo 1\n",
    "print (string_ejemplo.replace (\"s\",\"c\"))"
   ]
  },
  {
   "cell_type": "code",
   "execution_count": 16,
   "id": "803e96af-52d6-4079-bb2b-9c50d0681ec3",
   "metadata": {},
   "outputs": [
    {
     "name": "stdout",
     "output_type": "stream",
     "text": [
      "string en mayusculas\n"
     ]
    }
   ],
   "source": [
    "print (string_ejemplo.replace (\"minusculas\",\"mayusculas\"))"
   ]
  },
  {
   "cell_type": "code",
   "execution_count": 17,
   "id": "8ff0fbc6-4bc2-4188-93da-088e67cd7513",
   "metadata": {},
   "outputs": [
    {
     "name": "stdout",
     "output_type": "stream",
     "text": [
      "tring en minucula\n"
     ]
    }
   ],
   "source": [
    "print(string_ejemplo.replace(\"s\",\"\"))"
   ]
  },
  {
   "cell_type": "code",
   "execution_count": 18,
   "id": "49f257e3-bb72-4044-a1e9-0fa55eb921d2",
   "metadata": {},
   "outputs": [
    {
     "name": "stdout",
     "output_type": "stream",
     "text": [
      "['esto', 'se', 'va', 'a', 'convertir', 'en', 'una', 'lista', 'de', 'strings']\n"
     ]
    }
   ],
   "source": [
    "# metodo para convertir un string en una lista\n",
    "print(\"esto se va a convertir en una lista de strings\".split(\" \"))"
   ]
  },
  {
   "cell_type": "code",
   "execution_count": 19,
   "id": "8604b9c4-1ca4-47cc-9c6e-a4c43f94aef8",
   "metadata": {},
   "outputs": [
    {
     "name": "stdout",
     "output_type": "stream",
     "text": [
      "['esto se va a convertir en una', ' de strings']\n"
     ]
    }
   ],
   "source": [
    "print(\"esto se va a convertir en una lista de strings\".split(\" lista\"))"
   ]
  },
  {
   "cell_type": "code",
   "execution_count": 22,
   "id": "1c7a8a7c-962b-42f3-a329-2370e3f96574",
   "metadata": {},
   "outputs": [
    {
     "name": "stdout",
     "output_type": "stream",
     "text": [
      "10\n"
     ]
    }
   ],
   "source": [
    "# metodo para conocer la posicion dentro de un string\n",
    "print(string_ejemplo.index(\"m\"))\n"
   ]
  },
  {
   "cell_type": "code",
   "execution_count": 24,
   "id": "392ad067-4141-47b7-96ca-4545ae71e4bb",
   "metadata": {},
   "outputs": [
    {
     "ename": "TypeError",
     "evalue": "replace() takes at least 2 positional arguments (1 given)",
     "output_type": "error",
     "traceback": [
      "\u001b[31m---------------------------------------------------------------------------\u001b[39m",
      "\u001b[31mTypeError\u001b[39m                                 Traceback (most recent call last)",
      "\u001b[36mCell\u001b[39m\u001b[36m \u001b[39m\u001b[32mIn[24]\u001b[39m\u001b[32m, line 1\u001b[39m\n\u001b[32m----> \u001b[39m\u001b[32m1\u001b[39m \u001b[43mstring_ejemplo\u001b[49m\u001b[43m.\u001b[49m\u001b[43mreplace\u001b[49m\u001b[43m(\u001b[49m\u001b[33;43m\"\u001b[39;49m\u001b[33;43m \u001b[39;49m\u001b[33;43m\"\u001b[39;49m\u001b[43m)\u001b[49m\n",
      "\u001b[31mTypeError\u001b[39m: replace() takes at least 2 positional arguments (1 given)"
     ]
    }
   ],
   "source": [
    "string_ejemplo.replace(\" \")"
   ]
  },
  {
   "cell_type": "code",
   "execution_count": 25,
   "id": "a96f4e0e-18e8-40ca-a0dd-e605c6a5e6ce",
   "metadata": {},
   "outputs": [
    {
     "name": "stdout",
     "output_type": "stream",
     "text": [
      "[1, 3, 5, 6]\n",
      "<class 'list'>\n"
     ]
    }
   ],
   "source": [
    "# lista de numeros\n",
    "numeros=[1,3,5,6]\n",
    "print(numeros)\n",
    "print(type(numeros))"
   ]
  },
  {
   "cell_type": "code",
   "execution_count": 26,
   "id": "31c6f175-7bf0-4031-a58b-1a46a6a637fe",
   "metadata": {},
   "outputs": [
    {
     "name": "stdout",
     "output_type": "stream",
     "text": [
      "['esto', 'es', 'una', 'lista']\n"
     ]
    }
   ],
   "source": [
    "# lsita de strings\n",
    "strings=[\"esto\", \"es\", \"una\", \"lista\"]\n",
    "print(strings)"
   ]
  },
  {
   "cell_type": "code",
   "execution_count": 29,
   "id": "0e695f3d-6679-434a-92e1-b2030c2eb2ff",
   "metadata": {},
   "outputs": [
    {
     "name": "stdout",
     "output_type": "stream",
     "text": [
      "[True, False, True, True, False]\n"
     ]
    }
   ],
   "source": [
    "# lista de booleanos\n",
    "booleanos=[True, False, not False, True or False, False and False]\n",
    "print(booleanos)"
   ]
  },
  {
   "cell_type": "code",
   "execution_count": 35,
   "id": "b4ae3a69-0273-44b7-b546-bfcaf9450111",
   "metadata": {},
   "outputs": [
    {
     "name": "stdout",
     "output_type": "stream",
     "text": [
      "['esto es', 12, -34.5, True, False, 'Lista']\n",
      "<class 'list'>\n"
     ]
    },
    {
     "data": {
      "text/plain": [
       "6"
      ]
     },
     "execution_count": 35,
     "metadata": {},
     "output_type": "execute_result"
    }
   ],
   "source": [
    "# lista de tipos mezclados\n",
    "mix=[\"esto es\", 12, -34.5, True, False, \"Lista\"]\n",
    "print(mix)\n",
    "print(type(mix))\n",
    "len(mix)"
   ]
  },
  {
   "cell_type": "code",
   "execution_count": 36,
   "id": "e6274188-ea79-4e7b-9914-28fc81bda947",
   "metadata": {},
   "outputs": [
    {
     "name": "stdout",
     "output_type": "stream",
     "text": [
      "['gol', 12, -34.5, [23, True, False]]\n",
      "<class 'list'>\n"
     ]
    }
   ],
   "source": [
    "mix2=[\"gol\", 12, -34.5, [23, True, False]]\n",
    "print(mix2)\n",
    "print(type(mix2))"
   ]
  },
  {
   "cell_type": "code",
   "execution_count": 34,
   "id": "5cddd4fe-567b-4e06-b028-1975dbbc11ad",
   "metadata": {},
   "outputs": [
    {
     "data": {
      "text/plain": [
       "4"
      ]
     },
     "execution_count": 34,
     "metadata": {},
     "output_type": "execute_result"
    }
   ],
   "source": [
    "len(mix)"
   ]
  },
  {
   "cell_type": "code",
   "execution_count": 38,
   "id": "295b031f-f74f-4e18-bce1-a2ce504cbfbc",
   "metadata": {},
   "outputs": [
    {
     "name": "stdout",
     "output_type": "stream",
     "text": [
      "['esto es', 12, -34.5, True, False, 'Lista', 'gol', 12, -34.5, [23, True, False]]\n",
      "<class 'list'>\n"
     ]
    }
   ],
   "source": [
    "concatenacion = mix+mix2\n",
    "print(concatenacion)\n",
    "print(type(concatenacion))"
   ]
  },
  {
   "cell_type": "code",
   "execution_count": 40,
   "id": "3633555e-bbcc-4587-913f-1f5592120f2d",
   "metadata": {},
   "outputs": [
    {
     "name": "stdout",
     "output_type": "stream",
     "text": [
      "['gol', 12, -34.5, [23, True, False], 'esto es', 12, -34.5, True, False, 'Lista']\n",
      "<class 'list'>\n"
     ]
    }
   ],
   "source": [
    "concatenacion = mix2+mix\n",
    "print(concatenacion)\n",
    "print(type(concatenacion)) # ha cambiado el orden"
   ]
  },
  {
   "cell_type": "code",
   "execution_count": 41,
   "id": "37ed3dba-da07-4348-82c4-dc008ac56d0c",
   "metadata": {},
   "outputs": [
    {
     "name": "stdout",
     "output_type": "stream",
     "text": [
      "esto\n"
     ]
    }
   ],
   "source": [
    "lista_ejemplo= [\"esto\",2,3,\"patata\"]\n",
    "print(lista_ejemplo[0])"
   ]
  },
  {
   "cell_type": "code",
   "execution_count": 43,
   "id": "c1c5a7ff-2685-4a24-b149-3fb624dcd439",
   "metadata": {},
   "outputs": [
    {
     "name": "stdout",
     "output_type": "stream",
     "text": [
      "patata\n",
      "2\n"
     ]
    }
   ],
   "source": [
    "print(lista_ejemplo[-1])\n",
    "print(lista_ejemplo[-3])"
   ]
  },
  {
   "cell_type": "code",
   "execution_count": 50,
   "id": "a16764cc-dbdd-486c-9b0e-e867d9e6c831",
   "metadata": {},
   "outputs": [
    {
     "name": "stdout",
     "output_type": "stream",
     "text": [
      "['fisica', 'quimica', 'matematicas', 'literatura', 'filosofia']\n",
      "['fisica', 'gimnasia', 'quimica', 'matematicas', 'literatura', 'filosofia']\n",
      "['fisica', 'quimica', 'matematicas', 'literatura', 'filosofia']\n",
      "['fisica', 'quimica', 'matematicas', 'literatura']\n"
     ]
    }
   ],
   "source": [
    "asignaturas=[\"fisica\", \"quimica\", \"matematicas\", \"literatura\"]\n",
    "# añadir un elemento a una lista\n",
    "asignaturas.append(\"filosofia\")\n",
    "print(asignaturas)\n",
    "\n",
    "# añadir elementos en una posicion determinada\n",
    "asignaturas.insert(1,\"gimnasia\")\n",
    "print(asignaturas)\n",
    "\n",
    "# quitar un elemento a partir de su posicion\n",
    "asignaturas.pop(1)\n",
    "print(asignaturas)\n",
    "\n",
    "# quitar un elemento por su valor\n",
    "asignaturas.remove(\"filosofia\")\n",
    "print(asignaturas)\n"
   ]
  },
  {
   "cell_type": "code",
   "execution_count": 48,
   "id": "47e7c51a-4df2-4cb2-a95c-8d94d7660705",
   "metadata": {},
   "outputs": [
    {
     "name": "stdout",
     "output_type": "stream",
     "text": [
      "['fisica', 'gimnasia', 'quimica', 'matematicas', 'literatura', 'filosofia']\n"
     ]
    }
   ],
   "source": [
    "# metodo para quitar elementos\n",
    "asignaturas.clear\n",
    "print(asignaturas)"
   ]
  },
  {
   "cell_type": "code",
   "execution_count": null,
   "id": "a4a27be2-6de9-4819-9098-d672d922cbba",
   "metadata": {},
   "outputs": [],
   "source": []
  },
  {
   "cell_type": "code",
   "execution_count": null,
   "id": "08a91812-2bef-4952-8dd3-78c1ead1a40c",
   "metadata": {},
   "outputs": [],
   "source": []
  },
  {
   "cell_type": "code",
   "execution_count": null,
   "id": "bbdf7eeb-d9e8-4991-ac3f-bc6ab57eca34",
   "metadata": {},
   "outputs": [],
   "source": []
  },
  {
   "cell_type": "code",
   "execution_count": null,
   "id": "1e79bf82-7c05-4bff-ad2a-5d4a4492f9cb",
   "metadata": {},
   "outputs": [],
   "source": []
  },
  {
   "cell_type": "code",
   "execution_count": null,
   "id": "dcb45cce-9711-4a97-a908-1a0b04034b6a",
   "metadata": {},
   "outputs": [],
   "source": []
  },
  {
   "cell_type": "code",
   "execution_count": null,
   "id": "75d82485-b160-4a94-969f-782507085e10",
   "metadata": {},
   "outputs": [],
   "source": []
  },
  {
   "cell_type": "code",
   "execution_count": null,
   "id": "f6ec6fbb-7eed-4fda-aa3f-293850dd6493",
   "metadata": {},
   "outputs": [],
   "source": []
  }
 ],
 "metadata": {
  "kernelspec": {
   "display_name": "Python 3 (ipykernel)",
   "language": "python",
   "name": "python3"
  },
  "language_info": {
   "codemirror_mode": {
    "name": "ipython",
    "version": 3
   },
   "file_extension": ".py",
   "mimetype": "text/x-python",
   "name": "python",
   "nbconvert_exporter": "python",
   "pygments_lexer": "ipython3",
   "version": "3.13.7"
  }
 },
 "nbformat": 4,
 "nbformat_minor": 5
}
