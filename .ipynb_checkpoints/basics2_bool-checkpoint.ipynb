{
 "cells": [
  {
   "cell_type": "code",
   "execution_count": 9,
   "id": "7144fdad-4de5-4eb9-9825-d51e2337d1a1",
   "metadata": {},
   "outputs": [
    {
     "name": "stdout",
     "output_type": "stream",
     "text": [
      "False True False False\n",
      "False False False True\n",
      "True True True True\n"
     ]
    }
   ],
   "source": [
    "# Primer ordenador\n",
    "ram1 = 32\n",
    "process1 = \"i5\"\n",
    "disco1 = 500\n",
    "precio1 = 850\n",
    "\n",
    "# Segundo ordenador\n",
    "ram2 = 8\n",
    "process2 = \"i5\"\n",
    "disco2 = 500\n",
    "precio2 = 600\n",
    "\n",
    "# Tercer ordenador\n",
    "ram3 = 32\n",
    "process3 = \"i3\"\n",
    "disco3 = 500\n",
    "precio3 = 780\n",
    "\n",
    "cond_ram1 = (ram1 ==16 or ram1==32 or ram1==64) # or me vale con cualquier resultado a true\n",
    "cond_process1= (process1 ==\"i3\" and disco1==500) #and obliga a todas las condiciones deben ser true\n",
    "cond_precio1 = (precio1<800)\n",
    "condicion_total1 = (cond_ram1 and cond_process1 and cond_precio1)\n",
    "print (condicion_total1, cond_ram1, cond_process1, cond_precio1)\n",
    "\n",
    "\n",
    "cond_ram2 = (ram2 ==16 or ram2==32 or ram2==64) # or me vale con cualquier resultado a true\n",
    "cond_process2= (process2 ==\"i3\" and disco2==500) #and obliga a todas las condiciones deben ser true\n",
    "cond_precio2 = (precio2<800)\n",
    "condicion_total2 = (cond_ram2 and cond_process2 and cond_precio2)\n",
    "print ( condicion_total2, cond_ram2, cond_process2, cond_precio2)\n",
    "\n",
    "cond_ram3 = (ram3 ==16 or ram3==32 or ram3==64) # or me vale con cualquier resultado a true\n",
    "cond_process3= (process3 ==\"i3\" and disco3==500) #and obliga a todas las condiciones deben ser true\n",
    "cond_precio3 = (precio3<800)\n",
    "condicion_total3 = (cond_ram3 and cond_process3 and cond_precio3)\n",
    "print (condicion_total3, cond_ram3, cond_process3, cond_precio3)"
   ]
  },
  {
   "cell_type": "code",
   "execution_count": null,
   "id": "ebc21235-b65c-4952-a1e1-edf9c7d47b6f",
   "metadata": {},
   "outputs": [],
   "source": []
  },
  {
   "cell_type": "code",
   "execution_count": null,
   "id": "a5d00bdf-6f06-4bcb-af1c-104eec051b07",
   "metadata": {},
   "outputs": [],
   "source": []
  },
  {
   "cell_type": "code",
   "execution_count": null,
   "id": "6503762b-6cba-4062-9ead-138cfa58d21c",
   "metadata": {},
   "outputs": [],
   "source": []
  },
  {
   "cell_type": "code",
   "execution_count": null,
   "id": "554cc7ac-de61-4b0f-97c3-4a1f927c8b8a",
   "metadata": {},
   "outputs": [],
   "source": []
  },
  {
   "cell_type": "code",
   "execution_count": null,
   "id": "0b946c07-511d-4aa5-b19c-40e5bb29ac25",
   "metadata": {},
   "outputs": [],
   "source": []
  },
  {
   "cell_type": "code",
   "execution_count": null,
   "id": "dcc32bee-90a3-42b5-88c1-649051f2efde",
   "metadata": {},
   "outputs": [],
   "source": []
  },
  {
   "cell_type": "code",
   "execution_count": null,
   "id": "04e70f44-927c-408f-a332-cfedee246141",
   "metadata": {},
   "outputs": [],
   "source": []
  },
  {
   "cell_type": "code",
   "execution_count": null,
   "id": "ed13b2a0-4d67-4160-90e5-40d64d874bf0",
   "metadata": {},
   "outputs": [],
   "source": []
  }
 ],
 "metadata": {
  "kernelspec": {
   "display_name": "Python 3 (ipykernel)",
   "language": "python",
   "name": "python3"
  },
  "language_info": {
   "codemirror_mode": {
    "name": "ipython",
    "version": 3
   },
   "file_extension": ".py",
   "mimetype": "text/x-python",
   "name": "python",
   "nbconvert_exporter": "python",
   "pygments_lexer": "ipython3",
   "version": "3.13.7"
  }
 },
 "nbformat": 4,
 "nbformat_minor": 5
}
