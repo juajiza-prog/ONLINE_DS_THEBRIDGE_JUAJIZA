{
 "cells": [
  {
   "cell_type": "markdown",
   "metadata": {
    "colab_type": "text",
    "id": "view-in-github"
   },
   "source": [
    "<a href=\"https://colab.research.google.com/github/juajiza-prog/DATA_SCIENCE_THEBRIDGE_2025/blob/main/Parte_4_11_Ejercicios_Python_Basisc_I_3.ipynb\" target=\"_parent\"><img src=\"https://colab.research.google.com/assets/colab-badge.svg\" alt=\"Open In Colab\"/></a>"
   ]
  },
  {
   "cell_type": "markdown",
   "metadata": {
    "id": "8rRDaTBF2MZ7"
   },
   "source": [
    "![TheBridge_logo_RGB_color.jpg](attachment:TheBridge_logo_RGB_color.jpg)"
   ]
  },
  {
   "cell_type": "markdown",
   "metadata": {
    "id": "-Z4Dg0qG2MZ_"
   },
   "source": [
    "![imagen](./img/ejercicios.png)"
   ]
  },
  {
   "cell_type": "markdown",
   "metadata": {
    "id": "i5psOeK52MaB"
   },
   "source": [
    "## EJERCICIOS PYTHON BASICO 3:\n",
    "## Operaciones matemáticas, comparación y booleanas"
   ]
  },
  {
   "cell_type": "markdown",
   "metadata": {
    "id": "1f_-qcUA2MaC"
   },
   "source": [
    "Completa los siguiente ejercicios, la solución completa a los mismos se publicarán en el repo del curso a lo largo del sprint. En algunos ejercicios se muestra la solución final, para que puedas comprobar que lo has hecho bien, pero lo importante es el código que generes. ¡Vaaamos, a ello...!"
   ]
  },
  {
   "cell_type": "markdown",
   "metadata": {
    "id": "iFYpOjwU2MaD"
   },
   "source": [
    "![ejercicio.png](./img/ejercicio.png)\n",
    "\n",
    "\n",
    "## Ejercicio 1\n",
    "Tenemos las siguientes variables:\n",
    "\n",
    "```Python\n",
    "A = 4\n",
    "B = \"Text\"\n",
    "C = 4.1\n",
    "```\n",
    "\n",
    "Comprueba:\n",
    "1. Si A y B son equivalentes\n",
    "2. Si A y C NO son equivalentes\n",
    "3. Si A es mayor que C\n",
    "4. Si C es menor o igual que A\n",
    "5. Si B NO es equivalente a C"
   ]
  },
  {
   "cell_type": "code",
   "execution_count": 1,
   "metadata": {
    "id": "j9EOBHds2MaE",
    "outputId": "668841a2-ec62-4e3d-e9f7-1c70cbd48949"
   },
   "outputs": [
    {
     "name": "stdout",
     "output_type": "stream",
     "text": [
      "¿A y B son equivalentes? False\n",
      "¿A y C NO son equivalentes? True\n",
      "¿A es mayor que C? False\n",
      "¿C es menor o igual que A? False\n",
      "¿B NO es equivalente a C? True\n"
     ]
    }
   ],
   "source": [
    "# Variables iniciales\n",
    "A = 4\n",
    "B = \"Text\"\n",
    "C = 4.1\n",
    "\n",
    "# Comprobaciones\n",
    "print(\"¿A y B son equivalentes?\", A == B)             # False, un número no es igual a un texto\n",
    "print(\"¿A y C NO son equivalentes?\", A != C)          # True, 4 es distinto de 4.1\n",
    "print(\"¿A es mayor que C?\", A > C)                    # False, 4 no es mayor que 4.1\n",
    "print(\"¿C es menor o igual que A?\", C <= A)           # False, 4.1 no es menor ni igual que 4\n",
    "print(\"¿B NO es equivalente a C?\", B != C)            # True, texto distinto de número decimal\n"
   ]
  },
  {
   "cell_type": "markdown",
   "metadata": {
    "id": "kmr9QoG42MaH"
   },
   "source": [
    "![ejercicio.png](./img/ejercicio.png)\n",
    "\n",
    "## Ejercicio 2\n",
    "Crea un programa donde se recojan dos inputs del usuario, y el output del programa sea si esos inputs son iguales o no"
   ]
  },
  {
   "cell_type": "code",
   "execution_count": 9,
   "metadata": {
    "id": "mzMzM1Xw2MaI"
   },
   "outputs": [
    {
     "name": "stdin",
     "output_type": "stream",
     "text": [
      "escribe input 1: SI\n",
      "escribe input 2: si\n"
     ]
    },
    {
     "name": "stdout",
     "output_type": "stream",
     "text": [
      "sentencias diferentes\n"
     ]
    }
   ],
   "source": [
    "a = input (\"escribe input 1:\", )\n",
    "b= input (\"escribe input 2:\", )\n",
    "if a==b:\n",
    "    print(\"sentencias iguales\")\n",
    "if a!=b:\n",
    "    print(\"sentencias diferentes\")"
   ]
  },
  {
   "cell_type": "markdown",
   "metadata": {
    "id": "3hCOQKBu2MaJ"
   },
   "source": [
    "![ejercicio.png](./img/ejercicio.png)\n",
    "\n",
    "## Ejercicio 3\n",
    "Mismo programa que en 2, pero en esta ocasión tienen que ser tres inputs y dos salidas. Una de las salidas que nos indique si todos son iguales, y la otra si al menos dos inputs sí que lo son"
   ]
  },
  {
   "cell_type": "code",
   "execution_count": 16,
   "metadata": {
    "id": "11zQU5lN2MaL",
    "outputId": "0a031353-864f-48c7-a9d1-2cb4d6f708e7"
   },
   "outputs": [
    {
     "name": "stdin",
     "output_type": "stream",
     "text": [
      "escribe input 1: A\n",
      "escribe input 2: B\n",
      "escribe input 3: A\n"
     ]
    },
    {
     "name": "stdout",
     "output_type": "stream",
     "text": [
      "al menos 2 sentencias iguales\n"
     ]
    }
   ],
   "source": [
    "a= input (\"escribe input 1:\",)\n",
    "b= input (\"escribe input 2:\",)\n",
    "c= input (\"escribe input 3:\",)\n",
    "if a==b==c:\n",
    "    print(\"3 sentencias iguales\")\n",
    "if a==b or b==c or a==c:\n",
    "    print(\"al menos 2 sentencias iguales\")\n",
    "else: print(\"tres sentencias diferentes\")"
   ]
  },
  {
   "cell_type": "markdown",
   "metadata": {
    "id": "UtyBCe5j2MaL"
   },
   "source": [
    "![ejercicio.png](./img/ejercicio.png)\n",
    "\n",
    "## Ejercicio 4\n",
    "Razona sin ejecutar código el output que obtendremos de las siguientes sentencias\n",
    "1. True and True and False\n",
    "2. not ((True or False) and (True or False))\n",
    "3. (False or False or False or True) and False\n",
    "4. not False and True and not True"
   ]
  },
  {
   "cell_type": "markdown",
   "metadata": {
    "id": "6g-AbPUd2MaM"
   },
   "source": [
    "True and True and False\n",
    "\n",
    "True and True → True\n",
    "\n",
    "True and False → False\n",
    "\n",
    "not ((True or False) and (True or False))\n",
    "\n",
    "True or False → True (en ambos paréntesis)\n",
    "\n",
    "True and True → True\n",
    "\n",
    "not True → False\n",
    "\n",
    "(False or False or False or True) and False\n",
    "\n",
    "False or False or False or True → True\n",
    "\n",
    "True and False → False\n",
    "\n",
    "not False and True and not True\n",
    "\n",
    "not False → True\n",
    "\n",
    "not True → False\n",
    "\n",
    "True and True and False → False\n"
   ]
  }
 ],
 "metadata": {
  "colab": {
   "include_colab_link": true,
   "provenance": []
  },
  "kernelspec": {
   "display_name": "Python 3 (ipykernel)",
   "language": "python",
   "name": "python3"
  },
  "language_info": {
   "codemirror_mode": {
    "name": "ipython",
    "version": 3
   },
   "file_extension": ".py",
   "mimetype": "text/x-python",
   "name": "python",
   "nbconvert_exporter": "python",
   "pygments_lexer": "ipython3",
   "version": "3.13.7"
  }
 },
 "nbformat": 4,
 "nbformat_minor": 4
}
