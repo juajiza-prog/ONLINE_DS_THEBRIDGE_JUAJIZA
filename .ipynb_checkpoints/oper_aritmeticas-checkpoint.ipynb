{
 "cells": [
  {
   "cell_type": "code",
   "execution_count": 4,
   "id": "db1ad33f-97cb-4dd7-a2ca-95a55a192f3f",
   "metadata": {},
   "outputs": [
    {
     "name": "stdout",
     "output_type": "stream",
     "text": [
      "17.34\n",
      "<class 'float'>\n",
      "61.7\n",
      "<class 'float'>\n",
      "421978042.82945716 <class 'float'>\n",
      "resultado de la división es 0.4051863857374392 \n",
      " resultado resto es 5.0 \n",
      " resultado del cociente 0.0\n"
     ]
    }
   ],
   "source": [
    "entero = 5\n",
    "real = 12.34\n",
    "suma_vars = entero + real\n",
    "print(suma_vars)\n",
    "print(type(suma_vars))\n",
    "multiplica_vars = entero*real\n",
    "print(multiplica_vars)\n",
    "print (type(multiplica_vars))\n",
    "potencia = entero**real\n",
    "print(potencia,type(potencia))\n",
    "division_vars=entero/real\n",
    "cociente=entero//real\n",
    "resto=entero%real\n",
    "print(\"resultado de la división es\", division_vars,\"\\n\", \"resultado resto es\", resto, \"\\n\", \"resultado del cociente\", cociente)\n"
   ]
  },
  {
   "cell_type": "code",
   "execution_count": 5,
   "id": "3b0163cf-880f-4545-98d3-711981b40677",
   "metadata": {},
   "outputs": [
    {
     "name": "stdout",
     "output_type": "stream",
     "text": [
      "0.0\n"
     ]
    }
   ],
   "source": [
    "print (cociente)\n"
   ]
  },
  {
   "cell_type": "code",
   "execution_count": 7,
   "id": "e3736a91-37ee-4f47-acb6-190253d72460",
   "metadata": {},
   "outputs": [
    {
     "data": {
      "text/plain": [
       "0.0"
      ]
     },
     "execution_count": 7,
     "metadata": {},
     "output_type": "execute_result"
    }
   ],
   "source": [
    "round(cociente,6)"
   ]
  },
  {
   "cell_type": "code",
   "execution_count": 8,
   "id": "a9ce6648-f05c-4cf6-84eb-b92175f77a78",
   "metadata": {},
   "outputs": [
    {
     "name": "stdout",
     "output_type": "stream",
     "text": [
      "Conmutativa\n",
      "6\n",
      "6\n",
      "\n",
      "Asociativa\n",
      "30\n",
      "30\n",
      "\n",
      "Distributiva\n",
      "16\n",
      "16\n",
      "\n",
      "El Orden de operaciones se mantiene. Siempre podemos usar paréntesis\n",
      "50\n",
      "1.7272727272727273\n"
     ]
    }
   ],
   "source": [
    "print(\"Conmutativa\")\n",
    "print(2 * 3)\n",
    "print(3 * 2)\n",
    "\n",
    "print(\"\\nAsociativa\") # Recuerda que \"\\n\" se usa para que haya un salto de linea en el output.\n",
    "print((3 * 2) * 5)\n",
    "print(3 * (2 * 5))\n",
    "\n",
    "print(\"\\nDistributiva\")\n",
    "print(2 * (3 + 5))\n",
    "print(2 * 3 + 2 * 5)\n",
    "\n",
    "print(\"\\nEl Orden de operaciones se mantiene. Siempre podemos usar paréntesis\")\n",
    "print(2 * (2 + 3) * 5)\n",
    "print((2 * 2 + 3 * 5)/(4 + 7))"
   ]
  },
  {
   "cell_type": "code",
   "execution_count": 10,
   "id": "a27a36b3-a466-4be5-8b9f-7456cf6a9538",
   "metadata": {},
   "outputs": [
    {
     "name": "stdout",
     "output_type": "stream",
     "text": [
      "5.0\n"
     ]
    }
   ],
   "source": [
    "import math\n",
    "print(math.sqrt(25))"
   ]
  },
  {
   "cell_type": "code",
   "execution_count": 11,
   "id": "5f4449be-0b5b-4dde-8543-ad95edbabdef",
   "metadata": {},
   "outputs": [
    {
     "name": "stdout",
     "output_type": "stream",
     "text": [
      "1.0\n",
      "123.45\n"
     ]
    }
   ],
   "source": [
    "print(math.cos(0))\n",
    "print(math.fabs(-123.45))"
   ]
  },
  {
   "cell_type": "code",
   "execution_count": 12,
   "id": "7f9621d2-ae83-44de-a08f-239e712e5336",
   "metadata": {},
   "outputs": [
    {
     "name": "stdout",
     "output_type": "stream",
     "text": [
      "123.45\n"
     ]
    }
   ],
   "source": [
    "print(abs(-123.45))"
   ]
  },
  {
   "cell_type": "code",
   "execution_count": 13,
   "id": "842e8e4f-be2e-4a39-8fa6-b39d4691fe37",
   "metadata": {},
   "outputs": [
    {
     "ename": "ZeroDivisionError",
     "evalue": "division by zero",
     "output_type": "error",
     "traceback": [
      "\u001b[31m---------------------------------------------------------------------------\u001b[39m",
      "\u001b[31mZeroDivisionError\u001b[39m                         Traceback (most recent call last)",
      "\u001b[36mCell\u001b[39m\u001b[36m \u001b[39m\u001b[32mIn[13]\u001b[39m\u001b[32m, line 1\u001b[39m\n\u001b[32m----> \u001b[39m\u001b[32m1\u001b[39m \u001b[32;43m4\u001b[39;49m\u001b[43m/\u001b[49m\u001b[32;43m0\u001b[39;49m\n",
      "\u001b[31mZeroDivisionError\u001b[39m: division by zero"
     ]
    }
   ],
   "source": [
    "4/0"
   ]
  },
  {
   "cell_type": "code",
   "execution_count": null,
   "id": "5f5fcaf7-859a-43cc-b17d-9f488b001132",
   "metadata": {},
   "outputs": [],
   "source": [
    "variable_a/variable_b"
   ]
  },
  {
   "cell_type": "code",
   "execution_count": 14,
   "id": "51c8af58-dff2-43e2-9a1b-f82bec520cad",
   "metadata": {},
   "outputs": [
    {
     "ename": "ValueError",
     "evalue": "math domain error",
     "output_type": "error",
     "traceback": [
      "\u001b[31m---------------------------------------------------------------------------\u001b[39m",
      "\u001b[31mValueError\u001b[39m                                Traceback (most recent call last)",
      "\u001b[36mCell\u001b[39m\u001b[36m \u001b[39m\u001b[32mIn[14]\u001b[39m\u001b[32m, line 1\u001b[39m\n\u001b[32m----> \u001b[39m\u001b[32m1\u001b[39m \u001b[43mmath\u001b[49m\u001b[43m.\u001b[49m\u001b[43msqrt\u001b[49m\u001b[43m(\u001b[49m\u001b[43m-\u001b[49m\u001b[32;43m20\u001b[39;49m\u001b[43m)\u001b[49m\n",
      "\u001b[31mValueError\u001b[39m: math domain error"
     ]
    }
   ],
   "source": [
    "math.sqrt(-20)"
   ]
  },
  {
   "cell_type": "code",
   "execution_count": 16,
   "id": "3860a256-8c11-4b7f-b82c-a7d7d76e887e",
   "metadata": {},
   "outputs": [
    {
     "name": "stdout",
     "output_type": "stream",
     "text": [
      "1\n"
     ]
    }
   ],
   "source": [
    "asig=1\n",
    "print(asig)"
   ]
  },
  {
   "cell_type": "code",
   "execution_count": 18,
   "id": "738c6622-d3dd-47de-ab9c-b07d2f1d7792",
   "metadata": {},
   "outputs": [
    {
     "name": "stdout",
     "output_type": "stream",
     "text": [
      "False\n",
      "1\n"
     ]
    }
   ],
   "source": [
    "print(asig==5)\n",
    "print(asig)"
   ]
  },
  {
   "cell_type": "code",
   "execution_count": 19,
   "id": "9c017559-5d4f-4368-b423-2d3b3cf972fe",
   "metadata": {},
   "outputs": [
    {
     "name": "stdout",
     "output_type": "stream",
     "text": [
      "True\n"
     ]
    }
   ],
   "source": [
    "print(1==1.0)"
   ]
  },
  {
   "cell_type": "code",
   "execution_count": 20,
   "id": "2426e62c-312a-4ec6-8614-ac688e76b1fe",
   "metadata": {},
   "outputs": [
    {
     "name": "stdout",
     "output_type": "stream",
     "text": [
      "False\n"
     ]
    }
   ],
   "source": [
    "print(1==\"1\")"
   ]
  },
  {
   "cell_type": "code",
   "execution_count": 21,
   "id": "3dd1ea77-4aef-4178-b447-e3689aa6f95f",
   "metadata": {},
   "outputs": [
    {
     "ename": "TypeError",
     "evalue": "'<' not supported between instances of 'str' and 'int'",
     "output_type": "error",
     "traceback": [
      "\u001b[31m---------------------------------------------------------------------------\u001b[39m",
      "\u001b[31mTypeError\u001b[39m                                 Traceback (most recent call last)",
      "\u001b[36mCell\u001b[39m\u001b[36m \u001b[39m\u001b[32mIn[21]\u001b[39m\u001b[32m, line 1\u001b[39m\n\u001b[32m----> \u001b[39m\u001b[32m1\u001b[39m \u001b[38;5;28mprint\u001b[39m(\u001b[33;43m\"\u001b[39;49m\u001b[33;43m13\u001b[39;49m\u001b[33;43m\"\u001b[39;49m\u001b[43m<\u001b[49m\u001b[32;43m13\u001b[39;49m)\n",
      "\u001b[31mTypeError\u001b[39m: '<' not supported between instances of 'str' and 'int'"
     ]
    }
   ],
   "source": [
    "print(\"13\"<13)"
   ]
  },
  {
   "cell_type": "code",
   "execution_count": null,
   "id": "09b5aac1-088e-4357-ad80-c1c5eb45be8a",
   "metadata": {},
   "outputs": [],
   "source": []
  },
  {
   "cell_type": "code",
   "execution_count": null,
   "id": "0b95a53c-1aab-4090-969b-291f9416d381",
   "metadata": {},
   "outputs": [],
   "source": []
  }
 ],
 "metadata": {
  "kernelspec": {
   "display_name": "Python 3 (ipykernel)",
   "language": "python",
   "name": "python3"
  },
  "language_info": {
   "codemirror_mode": {
    "name": "ipython",
    "version": 3
   },
   "file_extension": ".py",
   "mimetype": "text/x-python",
   "name": "python",
   "nbconvert_exporter": "python",
   "pygments_lexer": "ipython3",
   "version": "3.13.7"
  }
 },
 "nbformat": 4,
 "nbformat_minor": 5
}
