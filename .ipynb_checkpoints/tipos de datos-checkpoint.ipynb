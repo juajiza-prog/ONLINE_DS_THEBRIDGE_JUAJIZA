{
 "cells": [
  {
   "cell_type": "code",
   "execution_count": 1,
   "id": "908e1a21-c7b7-41dc-8e95-f84aaa56686e",
   "metadata": {
    "jupyter": {
     "source_hidden": true
    }
   },
   "outputs": [
    {
     "data": {
      "text/plain": [
       "int"
      ]
     },
     "execution_count": 1,
     "metadata": {},
     "output_type": "execute_result"
    }
   ],
   "source": [
    "numero = 22\n",
    "type (numero)"
   ]
  },
  {
   "cell_type": "code",
   "execution_count": 3,
   "id": "7f5f588b-f4c8-4fd5-88a0-bf2b0d1e2bc4",
   "metadata": {},
   "outputs": [
    {
     "data": {
      "text/plain": [
       "float"
      ]
     },
     "execution_count": 3,
     "metadata": {},
     "output_type": "execute_result"
    }
   ],
   "source": [
    "numero_real=22.0\n",
    "type(numero_real)"
   ]
  },
  {
   "cell_type": "code",
   "execution_count": 4,
   "id": "15cb0119-fb3f-48e2-8a52-164668e7810d",
   "metadata": {},
   "outputs": [
    {
     "data": {
      "text/plain": [
       "float"
      ]
     },
     "execution_count": 4,
     "metadata": {},
     "output_type": "execute_result"
    }
   ],
   "source": [
    "numero_real_decimales = 22.45123\n",
    "type (numero_real_decimales)"
   ]
  },
  {
   "cell_type": "code",
   "execution_count": 6,
   "id": "53bca517-0de1-4898-8b49-f024c24dd3a6",
   "metadata": {},
   "outputs": [
    {
     "data": {
      "text/plain": [
       "199.56521739130434"
      ]
     },
     "execution_count": 6,
     "metadata": {},
     "output_type": "execute_result"
    }
   ],
   "source": [
    "4590/23"
   ]
  },
  {
   "cell_type": "code",
   "execution_count": 9,
   "id": "207832a8-921c-4c59-a442-9f07f1afb8d0",
   "metadata": {},
   "outputs": [
    {
     "data": {
      "text/plain": [
       "375828023454801203683362418972386504867736551759258677056523839782231681498337708535732725752658844333702457749526057760309227891351617765651907310968780236464694043316236562146724416478591131832593729111221580180531749232777515579969899075142213969117994877343802049421624954402214529390781647563339535024772584901607666862982567918622849636160208877365834950163790188523026247440507390382032188892386109905869706753143243921198482212075444022433366554786856559389689585638126582377224037721702239991441466026185752651502936472280911018500320375496336749951569521541850441747925844066295279671872605285792552660130702047998218334749356321677469529682551765858267502715894007887727250070780350262952377214028842297486263597879792176338220932619489509376"
      ]
     },
     "execution_count": 9,
     "metadata": {},
     "output_type": "execute_result"
    }
   ],
   "source": [
    "2**2500"
   ]
  },
  {
   "cell_type": "code",
   "execution_count": 11,
   "id": "02dd22ca-b458-4cd9-8a76-662ca57caef6",
   "metadata": {},
   "outputs": [
    {
     "name": "stdout",
     "output_type": "stream",
     "text": [
      "sumas y restas\n",
      "3\n",
      "3.0\n",
      "-1.0\n"
     ]
    }
   ],
   "source": [
    "print (\"sumas y restas\")\n",
    "print (1+2)\n",
    "print(1.0+2) # fijate que cuando sumo float + int devuelve un float\n",
    "print (1.0-2) # siemre que opera float e int dará float como tipo de resultado"
   ]
  },
  {
   "cell_type": "code",
   "execution_count": 15,
   "id": "e409444b-2e27-4d9d-b215-46dc87c1c21f",
   "metadata": {},
   "outputs": [
    {
     "name": "stdout",
     "output_type": "stream",
     "text": [
      "mult y divisiones\n",
      "4\n",
      "4.0\n",
      "1.0\n"
     ]
    }
   ],
   "source": [
    "print(\"mult y divisiones\")\n",
    "print (2*2)\n",
    "print (2.0*2)\n",
    "print (2/2) # el tipo del resultado de una división siempre es float"
   ]
  },
  {
   "cell_type": "code",
   "execution_count": 16,
   "id": "b738b396-adb5-4890-97f5-8afdfe2e983c",
   "metadata": {},
   "outputs": [
    {
     "name": "stdout",
     "output_type": "stream",
     "text": [
      "resto división\n",
      "3.3333333333333335\n",
      "3\n",
      "1\n",
      "3\n"
     ]
    }
   ],
   "source": [
    "print(\"resto división\")\n",
    "print(10/3)\n",
    "print(int(10/3))\n",
    "print (10%3)\n",
    "print (10//3)"
   ]
  },
  {
   "cell_type": "code",
   "execution_count": 17,
   "id": "29522ecc-6804-41bd-b75d-8fa0582ee176",
   "metadata": {},
   "outputs": [
    {
     "data": {
      "text/plain": [
       "int"
      ]
     },
     "execution_count": 17,
     "metadata": {},
     "output_type": "execute_result"
    }
   ],
   "source": [
    "type(10//3)"
   ]
  },
  {
   "cell_type": "code",
   "execution_count": 20,
   "id": "406ac5fe-0d1a-4517-ade4-f2b9988f717a",
   "metadata": {},
   "outputs": [
    {
     "name": "stdout",
     "output_type": "stream",
     "text": [
      "¿es 23 par?\n",
      "el resto es  1\n",
      "es impar\n"
     ]
    }
   ],
   "source": [
    "n=23\n",
    "print(\"¿es\", n, \"par?\")\n",
    "resto=n%2\n",
    "print(\"el resto es \", resto)\n",
    "if resto == 0:\n",
    "    print(\"es par\")\n",
    "else:\n",
    "    print (\"es impar\")"
   ]
  },
  {
   "cell_type": "code",
   "execution_count": 24,
   "id": "2d96c3ce-2b1a-4cc6-928f-67af3c17a688",
   "metadata": {},
   "outputs": [
    {
     "name": "stdout",
     "output_type": "stream",
     "text": [
      "esto es una variable de tipo string\n",
      " esto es una variable de tipo string en comillas simples\n"
     ]
    }
   ],
   "source": [
    "# con comillas dobles\n",
    "cadena = \"esto es una variable de tipo string\"\n",
    "\n",
    "# con comillas simples\n",
    "cadena2 = ' esto es una variable de tipo string en comillas simples'\n",
    "print (cadena)\n",
    "print (cadena2)"
   ]
  },
  {
   "cell_type": "code",
   "execution_count": 30,
   "id": "9f61fcc3-dacf-4e38-b91f-91739d9c4ced",
   "metadata": {},
   "outputs": [
    {
     "name": "stdout",
     "output_type": "stream",
     "text": [
      "string con ´simples´\n",
      "string con \"dobles\"\n",
      "string con \"simples o dobles\"\n"
     ]
    }
   ],
   "source": [
    "print (\"string con ´simples´\")\n",
    "print ('string con \"dobles\"')\n",
    "print(\"string con \\\"simples o dobles\\\"\")"
   ]
  },
  {
   "cell_type": "code",
   "execution_count": 31,
   "id": "51a1b8d3-a3ae-4647-8c14-59fdacf356d3",
   "metadata": {},
   "outputs": [
    {
     "name": "stdout",
     "output_type": "stream",
     "text": [
      "Primera linea\n",
      "Segunda linea\n",
      "\tTercera linea\n"
     ]
    }
   ],
   "source": [
    "print (\"Primera linea\\nSegunda linea\\n\\tTercera linea\")"
   ]
  },
  {
   "cell_type": "code",
   "execution_count": 33,
   "id": "66bb69e9-ba12-44e2-9be1-9cb49c70f3c2",
   "metadata": {},
   "outputs": [
    {
     "name": "stdout",
     "output_type": "stream",
     "text": [
      "primera linea\n",
      "Segunda linea\n",
      "\tTercera linea tabulada\n"
     ]
    }
   ],
   "source": [
    "mi_string = \"primera linea\\nSegunda linea\\n\\tTercera linea tabulada\"\n",
    "print (mi_string)"
   ]
  },
  {
   "cell_type": "code",
   "execution_count": 35,
   "id": "9233f054-6c0c-475c-843f-94d4250ac004",
   "metadata": {},
   "outputs": [
    {
     "name": "stdout",
     "output_type": "stream",
     "text": [
      "Antonia Scott\n"
     ]
    }
   ],
   "source": [
    "nombre = \"Antonia\"\n",
    "apellido = \" Scott\"\n",
    "nombre_apellido= nombre + apellido\n",
    "print (nombre_apellido)"
   ]
  },
  {
   "cell_type": "code",
   "execution_count": 36,
   "id": "3f60bfbb-87d5-4ff6-888c-28843022caaf",
   "metadata": {},
   "outputs": [
    {
     "ename": "TypeError",
     "evalue": "can only concatenate str (not \"int\") to str",
     "output_type": "error",
     "traceback": [
      "\u001b[31m---------------------------------------------------------------------------\u001b[39m",
      "\u001b[31mTypeError\u001b[39m                                 Traceback (most recent call last)",
      "\u001b[36mCell\u001b[39m\u001b[36m \u001b[39m\u001b[32mIn[36]\u001b[39m\u001b[32m, line 3\u001b[39m\n\u001b[32m      1\u001b[39m a= \u001b[33m\"\u001b[39m\u001b[33mestamos jugando\u001b[39m\u001b[33m\"\u001b[39m\n\u001b[32m      2\u001b[39m b=\u001b[32m100\u001b[39m\n\u001b[32m----> \u001b[39m\u001b[32m3\u001b[39m \u001b[38;5;28mprint\u001b[39m (\u001b[43ma\u001b[49m\u001b[43m+\u001b[49m\u001b[43mb\u001b[49m)\n",
      "\u001b[31mTypeError\u001b[39m: can only concatenate str (not \"int\") to str"
     ]
    }
   ],
   "source": [
    "a= \"estamos jugando\"\n",
    "b=100\n",
    "print (a+b)"
   ]
  },
  {
   "cell_type": "code",
   "execution_count": 37,
   "id": "2fd532b6-b0e7-45b7-b8ae-6fa4e86e7d8d",
   "metadata": {},
   "outputs": [
    {
     "name": "stdout",
     "output_type": "stream",
     "text": [
      "<class 'bool'>\n"
     ]
    }
   ],
   "source": [
    "a=False\n",
    "print (type (a))"
   ]
  },
  {
   "cell_type": "code",
   "execution_count": 38,
   "id": "28d12aa0-1968-425e-b5d1-2b6c7af917cd",
   "metadata": {},
   "outputs": [
    {
     "data": {
      "text/plain": [
       "False"
      ]
     },
     "execution_count": 38,
     "metadata": {},
     "output_type": "execute_result"
    }
   ],
   "source": [
    "dinerito=5\n",
    "dinerito>=15"
   ]
  },
  {
   "cell_type": "code",
   "execution_count": 39,
   "id": "2f5c38b9-5a83-46e9-9b51-0139026ad4bb",
   "metadata": {},
   "outputs": [
    {
     "name": "stdout",
     "output_type": "stream",
     "text": [
      "True\n",
      "<class 'bool'>\n"
     ]
    }
   ],
   "source": [
    "dinerito=15\n",
    "condicion1= dinerito>=15\n",
    "print (condicion1)\n",
    "print(type(condicion1))\n"
   ]
  },
  {
   "cell_type": "code",
   "execution_count": null,
   "id": "5e80b438-83fa-447c-8624-2b1b370dc185",
   "metadata": {},
   "outputs": [],
   "source": []
  },
  {
   "cell_type": "code",
   "execution_count": null,
   "id": "706faef4-9e97-4e66-b978-d2320bbc07f8",
   "metadata": {},
   "outputs": [],
   "source": []
  },
  {
   "cell_type": "code",
   "execution_count": null,
   "id": "bb8e0e04-6f09-4cf8-af6c-e8e91dc41efb",
   "metadata": {},
   "outputs": [],
   "source": []
  },
  {
   "cell_type": "code",
   "execution_count": null,
   "id": "d4bbc8ed-1173-4fb3-99cc-0ce94d2fe0f7",
   "metadata": {},
   "outputs": [],
   "source": []
  },
  {
   "cell_type": "code",
   "execution_count": null,
   "id": "20ac1192-3a42-4df4-ab9f-5fe95d03be9d",
   "metadata": {},
   "outputs": [],
   "source": []
  },
  {
   "cell_type": "code",
   "execution_count": null,
   "id": "fd1f8e55-710c-4677-9835-4e7fb510d63e",
   "metadata": {},
   "outputs": [],
   "source": []
  },
  {
   "cell_type": "code",
   "execution_count": null,
   "id": "771479df-d423-4a30-86b8-27d56fa9aa64",
   "metadata": {
    "jupyter": {
     "source_hidden": true
    }
   },
   "outputs": [],
   "source": []
  },
  {
   "cell_type": "code",
   "execution_count": null,
   "id": "7de36bf0-a925-4efd-b7c4-9e529fc4c77b",
   "metadata": {},
   "outputs": [],
   "source": []
  }
 ],
 "metadata": {
  "kernelspec": {
   "display_name": "Python 3 (ipykernel)",
   "language": "python",
   "name": "python3"
  },
  "language_info": {
   "codemirror_mode": {
    "name": "ipython",
    "version": 3
   },
   "file_extension": ".py",
   "mimetype": "text/x-python",
   "name": "python",
   "nbconvert_exporter": "python",
   "pygments_lexer": "ipython3",
   "version": "3.13.7"
  }
 },
 "nbformat": 4,
 "nbformat_minor": 5
}
